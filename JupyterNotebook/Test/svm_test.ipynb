{
 "cells": [
  {
   "cell_type": "code",
   "execution_count": 1,
   "id": "02ad843f-c01c-4311-9f43-8bb573d41d6f",
   "metadata": {},
   "outputs": [],
   "source": [
    "import numpy as np\n",
    "import pandas as pd\n",
    "import warnings\n",
    "pd.set_option('display.max_columns', None)\n",
    "warnings.filterwarnings('ignore')\n",
    "import joblib"
   ]
  },
  {
   "cell_type": "code",
   "execution_count": 2,
   "id": "90d2c11f-6452-4d3a-b93b-99c8cb237563",
   "metadata": {},
   "outputs": [
    {
     "data": {
      "text/html": [
       "<div>\n",
       "<style scoped>\n",
       "    .dataframe tbody tr th:only-of-type {\n",
       "        vertical-align: middle;\n",
       "    }\n",
       "\n",
       "    .dataframe tbody tr th {\n",
       "        vertical-align: top;\n",
       "    }\n",
       "\n",
       "    .dataframe thead th {\n",
       "        text-align: right;\n",
       "    }\n",
       "</style>\n",
       "<table border=\"1\" class=\"dataframe\">\n",
       "  <thead>\n",
       "    <tr style=\"text-align: right;\">\n",
       "      <th></th>\n",
       "      <th>Bwd Pkt Len Min</th>\n",
       "      <th>Subflow Fwd Byts</th>\n",
       "      <th>TotLen Fwd Pkts</th>\n",
       "      <th>Fwd Pkt Len Mean</th>\n",
       "      <th>Bwd Pkt Len Std</th>\n",
       "      <th>Flow IAT Min</th>\n",
       "      <th>Fwd IAT Min</th>\n",
       "      <th>Flow IAT Mean</th>\n",
       "      <th>Flow Duration</th>\n",
       "      <th>Flow IAT Std</th>\n",
       "      <th>Active Min</th>\n",
       "      <th>Active Mean</th>\n",
       "      <th>Bwd IAT Mean</th>\n",
       "      <th>Fwd IAT Mean</th>\n",
       "      <th>Dst Port</th>\n",
       "      <th>Tot Fwd Pkts</th>\n",
       "      <th>Tot Bwd Pkts</th>\n",
       "      <th>Protocol_0</th>\n",
       "      <th>Protocol_17</th>\n",
       "      <th>Protocol_6</th>\n",
       "    </tr>\n",
       "  </thead>\n",
       "  <tbody>\n",
       "    <tr>\n",
       "      <th>0</th>\n",
       "      <td>0</td>\n",
       "      <td>0</td>\n",
       "      <td>0</td>\n",
       "      <td>0</td>\n",
       "      <td>0</td>\n",
       "      <td>0</td>\n",
       "      <td>0</td>\n",
       "      <td>25295.0</td>\n",
       "      <td>25295</td>\n",
       "      <td>0.000000</td>\n",
       "      <td>0</td>\n",
       "      <td>0</td>\n",
       "      <td>0.000000</td>\n",
       "      <td>0</td>\n",
       "      <td>80</td>\n",
       "      <td>1</td>\n",
       "      <td>1</td>\n",
       "      <td>0</td>\n",
       "      <td>0</td>\n",
       "      <td>1</td>\n",
       "    </tr>\n",
       "    <tr>\n",
       "      <th>1</th>\n",
       "      <td>0</td>\n",
       "      <td>0</td>\n",
       "      <td>0</td>\n",
       "      <td>0</td>\n",
       "      <td>0</td>\n",
       "      <td>4750</td>\n",
       "      <td>0</td>\n",
       "      <td>22863.5</td>\n",
       "      <td>45727</td>\n",
       "      <td>25616.357362</td>\n",
       "      <td>0</td>\n",
       "      <td>0</td>\n",
       "      <td>25616.357362</td>\n",
       "      <td>0</td>\n",
       "      <td>80</td>\n",
       "      <td>0</td>\n",
       "      <td>3</td>\n",
       "      <td>0</td>\n",
       "      <td>0</td>\n",
       "      <td>1</td>\n",
       "    </tr>\n",
       "  </tbody>\n",
       "</table>\n",
       "</div>"
      ],
      "text/plain": [
       "   Bwd Pkt Len Min  Subflow Fwd Byts  TotLen Fwd Pkts  Fwd Pkt Len Mean  \\\n",
       "0                0                 0                0                 0   \n",
       "1                0                 0                0                 0   \n",
       "\n",
       "   Bwd Pkt Len Std  Flow IAT Min  Fwd IAT Min  Flow IAT Mean  Flow Duration  \\\n",
       "0                0             0            0        25295.0          25295   \n",
       "1                0          4750            0        22863.5          45727   \n",
       "\n",
       "   Flow IAT Std  Active Min  Active Mean  Bwd IAT Mean  Fwd IAT Mean  \\\n",
       "0      0.000000           0            0      0.000000             0   \n",
       "1  25616.357362           0            0  25616.357362             0   \n",
       "\n",
       "   Dst Port  Tot Fwd Pkts  Tot Bwd Pkts  Protocol_0  Protocol_17  Protocol_6  \n",
       "0        80             1             1           0            0           1  \n",
       "1        80             0             3           0            0           1  "
      ]
     },
     "execution_count": 2,
     "metadata": {},
     "output_type": "execute_result"
    }
   ],
   "source": [
    "data_1 = {\n",
    "    'Bwd Pkt Len Min': [0], 'Subflow Fwd Byts': [0], 'TotLen Fwd Pkts': [0], 'Fwd Pkt Len Mean': [0],\n",
    "    'Bwd Pkt Len Std': [0], 'Flow IAT Min': [0], 'Fwd IAT Min': [0], 'Flow IAT Mean': [25295],\n",
    "    'Flow Duration': [25295], 'Flow IAT Std': [0], 'Active Min': [0], 'Active Mean': [0],\n",
    "    'Bwd IAT Mean': [0], 'Fwd IAT Mean': [0], 'Dst Port': [80], 'Tot Fwd Pkts': [1],\n",
    "    'Tot Bwd Pkts': [1], 'Protocol_0': [0], 'Protocol_17': [0], 'Protocol_6': [1]\n",
    "}\n",
    "\n",
    "data_2 = {\n",
    "    'Bwd Pkt Len Min': [0], 'Subflow Fwd Byts': [0], 'TotLen Fwd Pkts': [0], 'Fwd Pkt Len Mean': [0],\n",
    "    'Bwd Pkt Len Std': [0], 'Flow IAT Min': [4750], 'Fwd IAT Min': [0], 'Flow IAT Mean': [22863.5],\n",
    "    'Flow Duration': [45727], 'Flow IAT Std': [25616.357362045], 'Active Min': [0], 'Active Mean': [0],\n",
    "    'Bwd IAT Mean': [25616.357362045], 'Fwd IAT Mean': [0], 'Dst Port': [80], 'Tot Fwd Pkts': [0],\n",
    "    'Tot Bwd Pkts': [3], 'Protocol_0': [0], 'Protocol_17': [0], 'Protocol_6': [1]\n",
    "}\n",
    "\n",
    "df_1 = pd.DataFrame(data_1)\n",
    "\n",
    "df_2 = pd.DataFrame(data_2)\n",
    "\n",
    "# Gộp hai dataframe thành một\n",
    "df_combined = pd.concat([df_1, df_2], ignore_index=True)\n",
    "df_combined.head()"
   ]
  },
  {
   "cell_type": "code",
   "execution_count": 3,
   "id": "cd05a35d-bdbc-4899-840d-ffe80c801049",
   "metadata": {},
   "outputs": [],
   "source": [
    "scaler = joblib.load('scaler_model.joblib')\n",
    "df_scaled = scaler.transform(df_combined)"
   ]
  },
  {
   "cell_type": "code",
   "execution_count": 4,
   "id": "dd6ffd62-02eb-4aaa-8e89-34fc979fae00",
   "metadata": {},
   "outputs": [],
   "source": [
    "pca = joblib.load('pca_model.joblib')\n",
    "df_pca = pca.transform(df_scaled)"
   ]
  },
  {
   "cell_type": "code",
   "execution_count": 5,
   "id": "30c8d456-bc32-498e-aa21-421bfd5d412e",
   "metadata": {},
   "outputs": [],
   "source": [
    "# Tải mô hình SVM\n",
    "model = joblib.load('svm_model.joblib')"
   ]
  },
  {
   "cell_type": "code",
   "execution_count": 6,
   "id": "62bc709a-dc68-45b0-bb32-6ddb9ce57241",
   "metadata": {},
   "outputs": [
    {
     "name": "stdout",
     "output_type": "stream",
     "text": [
      "[1 1]\n"
     ]
    }
   ],
   "source": [
    "predicted_label = model.predict(df_pca)\n",
    "print(predicted_label)"
   ]
  }
 ],
 "metadata": {
  "kernelspec": {
   "display_name": "Python 3 (ipykernel)",
   "language": "python",
   "name": "python3"
  },
  "language_info": {
   "codemirror_mode": {
    "name": "ipython",
    "version": 3
   },
   "file_extension": ".py",
   "mimetype": "text/x-python",
   "name": "python",
   "nbconvert_exporter": "python",
   "pygments_lexer": "ipython3",
   "version": "3.12.2"
  }
 },
 "nbformat": 4,
 "nbformat_minor": 5
}
