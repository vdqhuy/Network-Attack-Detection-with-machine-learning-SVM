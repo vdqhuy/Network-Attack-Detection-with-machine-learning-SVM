{
 "cells": [
  {
   "cell_type": "code",
   "execution_count": 1,
   "id": "02ad843f-c01c-4311-9f43-8bb573d41d6f",
   "metadata": {},
   "outputs": [],
   "source": [
    "import numpy as np\n",
    "import pandas as pd\n",
    "import warnings\n",
    "pd.set_option('display.max_columns', None)\n",
    "warnings.filterwarnings('ignore')\n",
    "import os\n",
    "import gc\n",
    "import matplotlib.pyplot as plt\n",
    "from sklearn.utils import resample\n",
    "import joblib\n",
    "from sklearn.decomposition import PCA"
   ]
  },
  {
   "cell_type": "code",
   "execution_count": 2,
   "id": "30c8d456-bc32-498e-aa21-421bfd5d412e",
   "metadata": {},
   "outputs": [],
   "source": [
    "# Tải mô hình SVM\n",
    "model = joblib.load('svm_model.joblib')"
   ]
  },
  {
   "cell_type": "code",
   "execution_count": 3,
   "id": "bc72545f-8154-43f7-8ace-bdbde884eddf",
   "metadata": {},
   "outputs": [],
   "source": [
    "df_dos = pd.read_csv('../../Dataset/OVS.csv/DoS_test.csv')"
   ]
  },
  {
   "cell_type": "code",
   "execution_count": 5,
   "id": "6708f867-14a8-425f-863b-501dbd995ee1",
   "metadata": {},
   "outputs": [],
   "source": [
    "# random_rows = df_dos.sample(n=10)\n",
    "# random_rows = df_dos[df_dos['Label'] == 1].sample(n=10)"
   ]
  },
  {
   "cell_type": "code",
   "execution_count": 6,
   "id": "bad03a1f-a129-4d33-8c6d-a064568ee67d",
   "metadata": {},
   "outputs": [],
   "source": [
    "# random_rows['Label'].value_counts()"
   ]
  },
  {
   "cell_type": "code",
   "execution_count": 7,
   "id": "d8c69c3c-d5f3-4493-aac0-44a5e3e15f6b",
   "metadata": {},
   "outputs": [],
   "source": [
    "# random_rows.head()"
   ]
  },
  {
   "cell_type": "code",
   "execution_count": 8,
   "id": "d1ee2e8b-f3a9-4e5a-94e0-d7a48de5f284",
   "metadata": {},
   "outputs": [],
   "source": [
    "# random_rows.tail()"
   ]
  },
  {
   "cell_type": "code",
   "execution_count": 9,
   "id": "5b9ea89e-b2e1-442a-a3ac-b91540046ed8",
   "metadata": {},
   "outputs": [],
   "source": [
    "# row_data = random_rows.drop(columns=['Label'])"
   ]
  },
  {
   "cell_type": "code",
   "execution_count": 10,
   "id": "cd05a35d-bdbc-4899-840d-ffe80c801049",
   "metadata": {},
   "outputs": [],
   "source": [
    "scaler = joblib.load('scaler_model.joblib')\n",
    "row_data = scaler.transform(df)"
   ]
  },
  {
   "cell_type": "code",
   "execution_count": 11,
   "id": "dd6ffd62-02eb-4aaa-8e89-34fc979fae00",
   "metadata": {},
   "outputs": [],
   "source": [
    "pca = joblib.load('pca_model.joblib')\n",
    "row_data = pca.transform(row_data)"
   ]
  },
  {
   "cell_type": "code",
   "execution_count": 12,
   "id": "62bc709a-dc68-45b0-bb32-6ddb9ce57241",
   "metadata": {},
   "outputs": [
    {
     "name": "stdout",
     "output_type": "stream",
     "text": [
      "[1]\n"
     ]
    }
   ],
   "source": [
    "predicted_label = model.predict(row_data)\n",
    "print(predicted_label)"
   ]
  },
  {
   "cell_type": "code",
   "execution_count": 13,
   "id": "218be9b2-5463-419f-8771-3aa2d733e264",
   "metadata": {},
   "outputs": [],
   "source": [
    "X_test = df_dos.drop(columns='Label')\n",
    "y_test = df_dos['Label']\n",
    "\n",
    "X_test_scaled = scaler.transform(X_test)"
   ]
  },
  {
   "cell_type": "code",
   "execution_count": null,
   "id": "717e4a1b-779b-4bcf-963d-b000366d0c77",
   "metadata": {},
   "outputs": [],
   "source": [
    "X_test_pca = pca.transform(X_test_scaled)\n",
    "\n",
    "# Dự đoán nhãn của tập kiểm tra\n",
    "y_pred = model.predict(X_test_pca)"
   ]
  },
  {
   "cell_type": "code",
   "execution_count": null,
   "id": "10628c23-8628-4433-bd22-3386bc853a69",
   "metadata": {},
   "outputs": [],
   "source": [
    "# Tính ma trận nhầm lẫn\n",
    "cm = confusion_matrix(y_test, model.predict(X_test_pca))\n",
    "\n",
    "# Hiển thị ma trận nhầm lẫn\n",
    "disp = ConfusionMatrixDisplay(confusion_matrix=cm, display_labels=[\"Normal\", \"Attack\"])\n",
    "disp.plot(values_format='d')"
   ]
  },
  {
   "cell_type": "code",
   "execution_count": 16,
   "id": "5a92fc4f-c8e6-4022-9d77-8bf981569072",
   "metadata": {},
   "outputs": [
    {
     "name": "stdout",
     "output_type": "stream",
     "text": [
      "Accuracy: 0.40716612377850164\n",
      "Precision: 1.0\n",
      "Recall: 0.40716612377850164\n",
      "F1-Score: 0.5787037037037037\n",
      "Hinge Loss: 1.4071661237785016\n"
     ]
    }
   ],
   "source": [
    "from sklearn.metrics import confusion_matrix, ConfusionMatrixDisplay, accuracy_score, precision_score, recall_score, f1_score, hinge_loss\n",
    "\n",
    "# Đánh giá độ chính xác\n",
    "accuracy = accuracy_score(y_test, y_pred)\n",
    "precision = precision_score(y_test, y_pred)\n",
    "recall = recall_score(y_test, y_pred)\n",
    "f1 = f1_score(y_test, y_pred)\n",
    "loss = hinge_loss(y_test, y_pred)\n",
    "\n",
    "print(f'Accuracy: {accuracy_score(y_test, y_pred)}')\n",
    "print(f'Precision: {precision}')\n",
    "print(f'Recall: {recall}')\n",
    "print(f'F1-Score: {f1}')\n",
    "print(f'Hinge Loss: {loss}')"
   ]
  }
 ],
 "metadata": {
  "kernelspec": {
   "display_name": "Python 3 (ipykernel)",
   "language": "python",
   "name": "python3"
  },
  "language_info": {
   "codemirror_mode": {
    "name": "ipython",
    "version": 3
   },
   "file_extension": ".py",
   "mimetype": "text/x-python",
   "name": "python",
   "nbconvert_exporter": "python",
   "pygments_lexer": "ipython3",
   "version": "3.12.2"
  }
 },
 "nbformat": 4,
 "nbformat_minor": 5
}
