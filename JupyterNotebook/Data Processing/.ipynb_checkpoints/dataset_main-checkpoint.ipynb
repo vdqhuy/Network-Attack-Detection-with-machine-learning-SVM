{
 "cells": [
  {
   "cell_type": "code",
   "execution_count": 1,
   "metadata": {
    "colab": {
     "base_uri": "https://localhost:8080/"
    },
    "id": "b8T0nv_TvPIK",
    "outputId": "48e5109c-3e1f-461c-ea0e-418fb373ef01"
   },
   "outputs": [],
   "source": [
    "# !pip install nbformat"
   ]
  },
  {
   "cell_type": "code",
   "execution_count": 2,
   "metadata": {
    "colab": {
     "base_uri": "https://localhost:8080/"
    },
    "id": "JLed8G8zvWgW",
    "outputId": "346079a0-64d8-49d0-da75-6741ff06c809"
   },
   "outputs": [],
   "source": [
    "# from google.colab import drive\n",
    "# drive.mount('/content/drive')"
   ]
  },
  {
   "cell_type": "code",
   "execution_count": 3,
   "metadata": {
    "colab": {
     "base_uri": "https://localhost:8080/"
    },
    "id": "YkNuO59kviJi",
    "outputId": "843968a3-c435-4dbf-c135-2d65cd86051c"
   },
   "outputs": [],
   "source": [
    "# !pip install graphviz\n",
    "# !pip install dtreeviz"
   ]
  },
  {
   "cell_type": "code",
   "execution_count": 4,
   "metadata": {
    "id": "hWv0C2ktemfL"
   },
   "outputs": [],
   "source": [
    "import numpy as np\n",
    "import pandas as pd\n",
    "import warnings\n",
    "pd.set_option('display.max_columns', None)\n",
    "warnings.filterwarnings('ignore')\n",
    "import os\n",
    "import gc\n",
    "import matplotlib.pyplot as plt"
   ]
  },
  {
   "cell_type": "raw",
   "metadata": {},
   "source": [
    "Đọc dataset df_main"
   ]
  },
  {
   "cell_type": "code",
   "execution_count": 5,
   "metadata": {
    "id": "Vdne2Cz5H6bh",
    "scrolled": true
   },
   "outputs": [
    {
     "name": "stdout",
     "output_type": "stream",
     "text": [
      "../../Dataset/IDS 2018 Intrusion CSVs (CSE-CIC-IDS2018)/DDoS Dataset/02-20-2018.csv\n",
      "../../Dataset/IDS 2018 Intrusion CSVs (CSE-CIC-IDS2018)/DDoS Dataset/02-21-2018.csv\n"
     ]
    }
   ],
   "source": [
    "df_main = pd.DataFrame(data=None)\n",
    "\n",
    "for dirname, _, filenames in os.walk('../../Dataset/IDS 2018 Intrusion CSVs (CSE-CIC-IDS2018)/DDoS Dataset/'):\n",
    "    for filename in filenames:\n",
    "        file_path = os.path.join(dirname, filename)\n",
    "        print(file_path)\n",
    "        df_temp = pd.read_csv(file_path)\n",
    "        df_main = pd.concat([df_main, df_temp], ignore_index=True)\n",
    "        del df_temp\n",
    "        gc.collect()"
   ]
  },
  {
   "cell_type": "code",
   "execution_count": 6,
   "metadata": {},
   "outputs": [
    {
     "data": {
      "text/plain": [
       "(8997323, 84)"
      ]
     },
     "execution_count": 6,
     "metadata": {},
     "output_type": "execute_result"
    }
   ],
   "source": [
    "df_main.shape"
   ]
  },
  {
   "cell_type": "code",
   "execution_count": 8,
   "metadata": {},
   "outputs": [],
   "source": [
    "df_main.drop(columns=['Flow ID'], inplace=True)\n",
    "df_main.drop(columns=['Src IP'], inplace=True)\n",
    "df_main.drop(columns=['Src Port'], inplace=True)\n",
    "df_main.drop(columns=['Dst IP'], inplace=True)"
   ]
  },
  {
   "cell_type": "code",
   "execution_count": 9,
   "metadata": {},
   "outputs": [
    {
     "data": {
      "text/plain": [
       "(8997323, 80)"
      ]
     },
     "execution_count": 9,
     "metadata": {},
     "output_type": "execute_result"
    }
   ],
   "source": [
    "df_main.shape"
   ]
  },
  {
   "cell_type": "code",
   "execution_count": 10,
   "metadata": {
    "scrolled": true
   },
   "outputs": [
    {
     "name": "stdout",
     "output_type": "stream",
     "text": [
      "Number of Rows (Samples): 8997323\n",
      "Number of Columns (Features): 80\n"
     ]
    }
   ],
   "source": [
    "# check the number of rows and columns\n",
    "print('Number of Rows (Samples): %s' % str((df_main.shape[0])))\n",
    "print('Number of Columns (Features): %s' % str((df_main.shape[1])))"
   ]
  },
  {
   "cell_type": "code",
   "execution_count": 11,
   "metadata": {
    "colab": {
     "base_uri": "https://localhost:8080/",
     "height": 521
    },
    "id": "9ZeA3KIJLCOD",
    "outputId": "5d50cd58-7878-49d4-93d5-cc200ed461b1"
   },
   "outputs": [
    {
     "data": {
      "text/html": [
       "<div>\n",
       "<style scoped>\n",
       "    .dataframe tbody tr th:only-of-type {\n",
       "        vertical-align: middle;\n",
       "    }\n",
       "\n",
       "    .dataframe tbody tr th {\n",
       "        vertical-align: top;\n",
       "    }\n",
       "\n",
       "    .dataframe thead th {\n",
       "        text-align: right;\n",
       "    }\n",
       "</style>\n",
       "<table border=\"1\" class=\"dataframe\">\n",
       "  <thead>\n",
       "    <tr style=\"text-align: right;\">\n",
       "      <th></th>\n",
       "      <th>Dst Port</th>\n",
       "      <th>Protocol</th>\n",
       "      <th>Timestamp</th>\n",
       "      <th>Flow Duration</th>\n",
       "      <th>Tot Fwd Pkts</th>\n",
       "      <th>Tot Bwd Pkts</th>\n",
       "      <th>TotLen Fwd Pkts</th>\n",
       "      <th>TotLen Bwd Pkts</th>\n",
       "      <th>Fwd Pkt Len Max</th>\n",
       "      <th>Fwd Pkt Len Min</th>\n",
       "      <th>Fwd Pkt Len Mean</th>\n",
       "      <th>Fwd Pkt Len Std</th>\n",
       "      <th>Bwd Pkt Len Max</th>\n",
       "      <th>Bwd Pkt Len Min</th>\n",
       "      <th>Bwd Pkt Len Mean</th>\n",
       "      <th>Bwd Pkt Len Std</th>\n",
       "      <th>Flow Byts/s</th>\n",
       "      <th>Flow Pkts/s</th>\n",
       "      <th>Flow IAT Mean</th>\n",
       "      <th>Flow IAT Std</th>\n",
       "      <th>Flow IAT Max</th>\n",
       "      <th>Flow IAT Min</th>\n",
       "      <th>Fwd IAT Tot</th>\n",
       "      <th>Fwd IAT Mean</th>\n",
       "      <th>Fwd IAT Std</th>\n",
       "      <th>Fwd IAT Max</th>\n",
       "      <th>Fwd IAT Min</th>\n",
       "      <th>Bwd IAT Tot</th>\n",
       "      <th>Bwd IAT Mean</th>\n",
       "      <th>Bwd IAT Std</th>\n",
       "      <th>Bwd IAT Max</th>\n",
       "      <th>Bwd IAT Min</th>\n",
       "      <th>Fwd PSH Flags</th>\n",
       "      <th>Bwd PSH Flags</th>\n",
       "      <th>Fwd URG Flags</th>\n",
       "      <th>Bwd URG Flags</th>\n",
       "      <th>Fwd Header Len</th>\n",
       "      <th>Bwd Header Len</th>\n",
       "      <th>Fwd Pkts/s</th>\n",
       "      <th>Bwd Pkts/s</th>\n",
       "      <th>Pkt Len Min</th>\n",
       "      <th>Pkt Len Max</th>\n",
       "      <th>Pkt Len Mean</th>\n",
       "      <th>Pkt Len Std</th>\n",
       "      <th>Pkt Len Var</th>\n",
       "      <th>FIN Flag Cnt</th>\n",
       "      <th>SYN Flag Cnt</th>\n",
       "      <th>RST Flag Cnt</th>\n",
       "      <th>PSH Flag Cnt</th>\n",
       "      <th>ACK Flag Cnt</th>\n",
       "      <th>URG Flag Cnt</th>\n",
       "      <th>CWE Flag Count</th>\n",
       "      <th>ECE Flag Cnt</th>\n",
       "      <th>Down/Up Ratio</th>\n",
       "      <th>Pkt Size Avg</th>\n",
       "      <th>Fwd Seg Size Avg</th>\n",
       "      <th>Bwd Seg Size Avg</th>\n",
       "      <th>Fwd Byts/b Avg</th>\n",
       "      <th>Fwd Pkts/b Avg</th>\n",
       "      <th>Fwd Blk Rate Avg</th>\n",
       "      <th>Bwd Byts/b Avg</th>\n",
       "      <th>Bwd Pkts/b Avg</th>\n",
       "      <th>Bwd Blk Rate Avg</th>\n",
       "      <th>Subflow Fwd Pkts</th>\n",
       "      <th>Subflow Fwd Byts</th>\n",
       "      <th>Subflow Bwd Pkts</th>\n",
       "      <th>Subflow Bwd Byts</th>\n",
       "      <th>Init Fwd Win Byts</th>\n",
       "      <th>Init Bwd Win Byts</th>\n",
       "      <th>Fwd Act Data Pkts</th>\n",
       "      <th>Fwd Seg Size Min</th>\n",
       "      <th>Active Mean</th>\n",
       "      <th>Active Std</th>\n",
       "      <th>Active Max</th>\n",
       "      <th>Active Min</th>\n",
       "      <th>Idle Mean</th>\n",
       "      <th>Idle Std</th>\n",
       "      <th>Idle Max</th>\n",
       "      <th>Idle Min</th>\n",
       "      <th>Label</th>\n",
       "    </tr>\n",
       "  </thead>\n",
       "  <tbody>\n",
       "    <tr>\n",
       "      <th>0</th>\n",
       "      <td>22</td>\n",
       "      <td>6</td>\n",
       "      <td>20/02/2018 08:34:07</td>\n",
       "      <td>888751</td>\n",
       "      <td>11</td>\n",
       "      <td>11</td>\n",
       "      <td>1249.0</td>\n",
       "      <td>1969.0</td>\n",
       "      <td>736.0</td>\n",
       "      <td>0.0</td>\n",
       "      <td>113.545455</td>\n",
       "      <td>220.896068</td>\n",
       "      <td>976.0</td>\n",
       "      <td>0.0</td>\n",
       "      <td>179.0</td>\n",
       "      <td>364.186491</td>\n",
       "      <td>3620.811678</td>\n",
       "      <td>24.753840</td>\n",
       "      <td>4.232148e+04</td>\n",
       "      <td>47851.735780</td>\n",
       "      <td>101609.0</td>\n",
       "      <td>14.0</td>\n",
       "      <td>888751.0</td>\n",
       "      <td>88875.1</td>\n",
       "      <td>49295.735510</td>\n",
       "      <td>140273.0</td>\n",
       "      <td>14.0</td>\n",
       "      <td>788197.0</td>\n",
       "      <td>78819.7</td>\n",
       "      <td>55863.18804</td>\n",
       "      <td>139285.0</td>\n",
       "      <td>72.0</td>\n",
       "      <td>0</td>\n",
       "      <td>0</td>\n",
       "      <td>0</td>\n",
       "      <td>0</td>\n",
       "      <td>360</td>\n",
       "      <td>360</td>\n",
       "      <td>12.376920</td>\n",
       "      <td>12.37692</td>\n",
       "      <td>0.0</td>\n",
       "      <td>976.0</td>\n",
       "      <td>139.913043</td>\n",
       "      <td>290.633933</td>\n",
       "      <td>84468.083</td>\n",
       "      <td>0</td>\n",
       "      <td>0</td>\n",
       "      <td>0</td>\n",
       "      <td>1</td>\n",
       "      <td>0</td>\n",
       "      <td>0</td>\n",
       "      <td>0</td>\n",
       "      <td>0</td>\n",
       "      <td>1.0</td>\n",
       "      <td>146.272727</td>\n",
       "      <td>113.545455</td>\n",
       "      <td>179.0</td>\n",
       "      <td>0</td>\n",
       "      <td>0</td>\n",
       "      <td>0</td>\n",
       "      <td>0</td>\n",
       "      <td>0</td>\n",
       "      <td>0</td>\n",
       "      <td>11</td>\n",
       "      <td>1249</td>\n",
       "      <td>11</td>\n",
       "      <td>1969</td>\n",
       "      <td>14600</td>\n",
       "      <td>233</td>\n",
       "      <td>7</td>\n",
       "      <td>32</td>\n",
       "      <td>0.0</td>\n",
       "      <td>0.0</td>\n",
       "      <td>0.0</td>\n",
       "      <td>0.0</td>\n",
       "      <td>0.0</td>\n",
       "      <td>0.000000</td>\n",
       "      <td>0.0</td>\n",
       "      <td>0.0</td>\n",
       "      <td>Benign</td>\n",
       "    </tr>\n",
       "    <tr>\n",
       "      <th>1</th>\n",
       "      <td>0</td>\n",
       "      <td>0</td>\n",
       "      <td>20/02/2018 08:33:22</td>\n",
       "      <td>112642816</td>\n",
       "      <td>3</td>\n",
       "      <td>0</td>\n",
       "      <td>0.0</td>\n",
       "      <td>0.0</td>\n",
       "      <td>0.0</td>\n",
       "      <td>0.0</td>\n",
       "      <td>0.000000</td>\n",
       "      <td>0.000000</td>\n",
       "      <td>0.0</td>\n",
       "      <td>0.0</td>\n",
       "      <td>0.0</td>\n",
       "      <td>0.000000</td>\n",
       "      <td>0.000000</td>\n",
       "      <td>0.026633</td>\n",
       "      <td>5.630000e+07</td>\n",
       "      <td>7.071068</td>\n",
       "      <td>56300000.0</td>\n",
       "      <td>56300000.0</td>\n",
       "      <td>113000000.0</td>\n",
       "      <td>56300000.0</td>\n",
       "      <td>7.071068</td>\n",
       "      <td>56300000.0</td>\n",
       "      <td>56300000.0</td>\n",
       "      <td>0.0</td>\n",
       "      <td>0.0</td>\n",
       "      <td>0.00000</td>\n",
       "      <td>0.0</td>\n",
       "      <td>0.0</td>\n",
       "      <td>0</td>\n",
       "      <td>0</td>\n",
       "      <td>0</td>\n",
       "      <td>0</td>\n",
       "      <td>0</td>\n",
       "      <td>0</td>\n",
       "      <td>0.026633</td>\n",
       "      <td>0.00000</td>\n",
       "      <td>0.0</td>\n",
       "      <td>0.0</td>\n",
       "      <td>0.000000</td>\n",
       "      <td>0.000000</td>\n",
       "      <td>0.000</td>\n",
       "      <td>0</td>\n",
       "      <td>0</td>\n",
       "      <td>0</td>\n",
       "      <td>0</td>\n",
       "      <td>0</td>\n",
       "      <td>0</td>\n",
       "      <td>0</td>\n",
       "      <td>0</td>\n",
       "      <td>0.0</td>\n",
       "      <td>0.000000</td>\n",
       "      <td>0.000000</td>\n",
       "      <td>0.0</td>\n",
       "      <td>0</td>\n",
       "      <td>0</td>\n",
       "      <td>0</td>\n",
       "      <td>0</td>\n",
       "      <td>0</td>\n",
       "      <td>0</td>\n",
       "      <td>3</td>\n",
       "      <td>0</td>\n",
       "      <td>0</td>\n",
       "      <td>0</td>\n",
       "      <td>-1</td>\n",
       "      <td>-1</td>\n",
       "      <td>0</td>\n",
       "      <td>0</td>\n",
       "      <td>0.0</td>\n",
       "      <td>0.0</td>\n",
       "      <td>0.0</td>\n",
       "      <td>0.0</td>\n",
       "      <td>56300000.0</td>\n",
       "      <td>7.071068</td>\n",
       "      <td>56300000.0</td>\n",
       "      <td>56300000.0</td>\n",
       "      <td>Benign</td>\n",
       "    </tr>\n",
       "    <tr>\n",
       "      <th>2</th>\n",
       "      <td>0</td>\n",
       "      <td>0</td>\n",
       "      <td>20/02/2018 08:36:11</td>\n",
       "      <td>112642712</td>\n",
       "      <td>3</td>\n",
       "      <td>0</td>\n",
       "      <td>0.0</td>\n",
       "      <td>0.0</td>\n",
       "      <td>0.0</td>\n",
       "      <td>0.0</td>\n",
       "      <td>0.000000</td>\n",
       "      <td>0.000000</td>\n",
       "      <td>0.0</td>\n",
       "      <td>0.0</td>\n",
       "      <td>0.0</td>\n",
       "      <td>0.000000</td>\n",
       "      <td>0.000000</td>\n",
       "      <td>0.026633</td>\n",
       "      <td>5.630000e+07</td>\n",
       "      <td>18.384776</td>\n",
       "      <td>56300000.0</td>\n",
       "      <td>56300000.0</td>\n",
       "      <td>113000000.0</td>\n",
       "      <td>56300000.0</td>\n",
       "      <td>18.384776</td>\n",
       "      <td>56300000.0</td>\n",
       "      <td>56300000.0</td>\n",
       "      <td>0.0</td>\n",
       "      <td>0.0</td>\n",
       "      <td>0.00000</td>\n",
       "      <td>0.0</td>\n",
       "      <td>0.0</td>\n",
       "      <td>0</td>\n",
       "      <td>0</td>\n",
       "      <td>0</td>\n",
       "      <td>0</td>\n",
       "      <td>0</td>\n",
       "      <td>0</td>\n",
       "      <td>0.026633</td>\n",
       "      <td>0.00000</td>\n",
       "      <td>0.0</td>\n",
       "      <td>0.0</td>\n",
       "      <td>0.000000</td>\n",
       "      <td>0.000000</td>\n",
       "      <td>0.000</td>\n",
       "      <td>0</td>\n",
       "      <td>0</td>\n",
       "      <td>0</td>\n",
       "      <td>0</td>\n",
       "      <td>0</td>\n",
       "      <td>0</td>\n",
       "      <td>0</td>\n",
       "      <td>0</td>\n",
       "      <td>0.0</td>\n",
       "      <td>0.000000</td>\n",
       "      <td>0.000000</td>\n",
       "      <td>0.0</td>\n",
       "      <td>0</td>\n",
       "      <td>0</td>\n",
       "      <td>0</td>\n",
       "      <td>0</td>\n",
       "      <td>0</td>\n",
       "      <td>0</td>\n",
       "      <td>3</td>\n",
       "      <td>0</td>\n",
       "      <td>0</td>\n",
       "      <td>0</td>\n",
       "      <td>-1</td>\n",
       "      <td>-1</td>\n",
       "      <td>0</td>\n",
       "      <td>0</td>\n",
       "      <td>0.0</td>\n",
       "      <td>0.0</td>\n",
       "      <td>0.0</td>\n",
       "      <td>0.0</td>\n",
       "      <td>56300000.0</td>\n",
       "      <td>18.384776</td>\n",
       "      <td>56300000.0</td>\n",
       "      <td>56300000.0</td>\n",
       "      <td>Benign</td>\n",
       "    </tr>\n",
       "    <tr>\n",
       "      <th>3</th>\n",
       "      <td>0</td>\n",
       "      <td>0</td>\n",
       "      <td>20/02/2018 08:39:00</td>\n",
       "      <td>112642648</td>\n",
       "      <td>3</td>\n",
       "      <td>0</td>\n",
       "      <td>0.0</td>\n",
       "      <td>0.0</td>\n",
       "      <td>0.0</td>\n",
       "      <td>0.0</td>\n",
       "      <td>0.000000</td>\n",
       "      <td>0.000000</td>\n",
       "      <td>0.0</td>\n",
       "      <td>0.0</td>\n",
       "      <td>0.0</td>\n",
       "      <td>0.000000</td>\n",
       "      <td>0.000000</td>\n",
       "      <td>0.026633</td>\n",
       "      <td>5.630000e+07</td>\n",
       "      <td>5.656854</td>\n",
       "      <td>56300000.0</td>\n",
       "      <td>56300000.0</td>\n",
       "      <td>113000000.0</td>\n",
       "      <td>56300000.0</td>\n",
       "      <td>5.656854</td>\n",
       "      <td>56300000.0</td>\n",
       "      <td>56300000.0</td>\n",
       "      <td>0.0</td>\n",
       "      <td>0.0</td>\n",
       "      <td>0.00000</td>\n",
       "      <td>0.0</td>\n",
       "      <td>0.0</td>\n",
       "      <td>0</td>\n",
       "      <td>0</td>\n",
       "      <td>0</td>\n",
       "      <td>0</td>\n",
       "      <td>0</td>\n",
       "      <td>0</td>\n",
       "      <td>0.026633</td>\n",
       "      <td>0.00000</td>\n",
       "      <td>0.0</td>\n",
       "      <td>0.0</td>\n",
       "      <td>0.000000</td>\n",
       "      <td>0.000000</td>\n",
       "      <td>0.000</td>\n",
       "      <td>0</td>\n",
       "      <td>0</td>\n",
       "      <td>0</td>\n",
       "      <td>0</td>\n",
       "      <td>0</td>\n",
       "      <td>0</td>\n",
       "      <td>0</td>\n",
       "      <td>0</td>\n",
       "      <td>0.0</td>\n",
       "      <td>0.000000</td>\n",
       "      <td>0.000000</td>\n",
       "      <td>0.0</td>\n",
       "      <td>0</td>\n",
       "      <td>0</td>\n",
       "      <td>0</td>\n",
       "      <td>0</td>\n",
       "      <td>0</td>\n",
       "      <td>0</td>\n",
       "      <td>3</td>\n",
       "      <td>0</td>\n",
       "      <td>0</td>\n",
       "      <td>0</td>\n",
       "      <td>-1</td>\n",
       "      <td>-1</td>\n",
       "      <td>0</td>\n",
       "      <td>0</td>\n",
       "      <td>0.0</td>\n",
       "      <td>0.0</td>\n",
       "      <td>0.0</td>\n",
       "      <td>0.0</td>\n",
       "      <td>56300000.0</td>\n",
       "      <td>5.656854</td>\n",
       "      <td>56300000.0</td>\n",
       "      <td>56300000.0</td>\n",
       "      <td>Benign</td>\n",
       "    </tr>\n",
       "    <tr>\n",
       "      <th>4</th>\n",
       "      <td>0</td>\n",
       "      <td>0</td>\n",
       "      <td>20/02/2018 08:41:49</td>\n",
       "      <td>112642702</td>\n",
       "      <td>3</td>\n",
       "      <td>0</td>\n",
       "      <td>0.0</td>\n",
       "      <td>0.0</td>\n",
       "      <td>0.0</td>\n",
       "      <td>0.0</td>\n",
       "      <td>0.000000</td>\n",
       "      <td>0.000000</td>\n",
       "      <td>0.0</td>\n",
       "      <td>0.0</td>\n",
       "      <td>0.0</td>\n",
       "      <td>0.000000</td>\n",
       "      <td>0.000000</td>\n",
       "      <td>0.026633</td>\n",
       "      <td>5.630000e+07</td>\n",
       "      <td>65.053824</td>\n",
       "      <td>56300000.0</td>\n",
       "      <td>56300000.0</td>\n",
       "      <td>113000000.0</td>\n",
       "      <td>56300000.0</td>\n",
       "      <td>65.053824</td>\n",
       "      <td>56300000.0</td>\n",
       "      <td>56300000.0</td>\n",
       "      <td>0.0</td>\n",
       "      <td>0.0</td>\n",
       "      <td>0.00000</td>\n",
       "      <td>0.0</td>\n",
       "      <td>0.0</td>\n",
       "      <td>0</td>\n",
       "      <td>0</td>\n",
       "      <td>0</td>\n",
       "      <td>0</td>\n",
       "      <td>0</td>\n",
       "      <td>0</td>\n",
       "      <td>0.026633</td>\n",
       "      <td>0.00000</td>\n",
       "      <td>0.0</td>\n",
       "      <td>0.0</td>\n",
       "      <td>0.000000</td>\n",
       "      <td>0.000000</td>\n",
       "      <td>0.000</td>\n",
       "      <td>0</td>\n",
       "      <td>0</td>\n",
       "      <td>0</td>\n",
       "      <td>0</td>\n",
       "      <td>0</td>\n",
       "      <td>0</td>\n",
       "      <td>0</td>\n",
       "      <td>0</td>\n",
       "      <td>0.0</td>\n",
       "      <td>0.000000</td>\n",
       "      <td>0.000000</td>\n",
       "      <td>0.0</td>\n",
       "      <td>0</td>\n",
       "      <td>0</td>\n",
       "      <td>0</td>\n",
       "      <td>0</td>\n",
       "      <td>0</td>\n",
       "      <td>0</td>\n",
       "      <td>3</td>\n",
       "      <td>0</td>\n",
       "      <td>0</td>\n",
       "      <td>0</td>\n",
       "      <td>-1</td>\n",
       "      <td>-1</td>\n",
       "      <td>0</td>\n",
       "      <td>0</td>\n",
       "      <td>0.0</td>\n",
       "      <td>0.0</td>\n",
       "      <td>0.0</td>\n",
       "      <td>0.0</td>\n",
       "      <td>56300000.0</td>\n",
       "      <td>65.053824</td>\n",
       "      <td>56300000.0</td>\n",
       "      <td>56300000.0</td>\n",
       "      <td>Benign</td>\n",
       "    </tr>\n",
       "  </tbody>\n",
       "</table>\n",
       "</div>"
      ],
      "text/plain": [
       "   Dst Port  Protocol            Timestamp  Flow Duration  Tot Fwd Pkts  \\\n",
       "0        22         6  20/02/2018 08:34:07         888751            11   \n",
       "1         0         0  20/02/2018 08:33:22      112642816             3   \n",
       "2         0         0  20/02/2018 08:36:11      112642712             3   \n",
       "3         0         0  20/02/2018 08:39:00      112642648             3   \n",
       "4         0         0  20/02/2018 08:41:49      112642702             3   \n",
       "\n",
       "   Tot Bwd Pkts  TotLen Fwd Pkts  TotLen Bwd Pkts  Fwd Pkt Len Max  \\\n",
       "0            11           1249.0           1969.0            736.0   \n",
       "1             0              0.0              0.0              0.0   \n",
       "2             0              0.0              0.0              0.0   \n",
       "3             0              0.0              0.0              0.0   \n",
       "4             0              0.0              0.0              0.0   \n",
       "\n",
       "   Fwd Pkt Len Min  Fwd Pkt Len Mean  Fwd Pkt Len Std  Bwd Pkt Len Max  \\\n",
       "0              0.0        113.545455       220.896068            976.0   \n",
       "1              0.0          0.000000         0.000000              0.0   \n",
       "2              0.0          0.000000         0.000000              0.0   \n",
       "3              0.0          0.000000         0.000000              0.0   \n",
       "4              0.0          0.000000         0.000000              0.0   \n",
       "\n",
       "   Bwd Pkt Len Min  Bwd Pkt Len Mean  Bwd Pkt Len Std  Flow Byts/s  \\\n",
       "0              0.0             179.0       364.186491  3620.811678   \n",
       "1              0.0               0.0         0.000000     0.000000   \n",
       "2              0.0               0.0         0.000000     0.000000   \n",
       "3              0.0               0.0         0.000000     0.000000   \n",
       "4              0.0               0.0         0.000000     0.000000   \n",
       "\n",
       "   Flow Pkts/s  Flow IAT Mean  Flow IAT Std  Flow IAT Max  Flow IAT Min  \\\n",
       "0    24.753840   4.232148e+04  47851.735780      101609.0          14.0   \n",
       "1     0.026633   5.630000e+07      7.071068    56300000.0    56300000.0   \n",
       "2     0.026633   5.630000e+07     18.384776    56300000.0    56300000.0   \n",
       "3     0.026633   5.630000e+07      5.656854    56300000.0    56300000.0   \n",
       "4     0.026633   5.630000e+07     65.053824    56300000.0    56300000.0   \n",
       "\n",
       "   Fwd IAT Tot  Fwd IAT Mean   Fwd IAT Std  Fwd IAT Max  Fwd IAT Min  \\\n",
       "0     888751.0       88875.1  49295.735510     140273.0         14.0   \n",
       "1  113000000.0    56300000.0      7.071068   56300000.0   56300000.0   \n",
       "2  113000000.0    56300000.0     18.384776   56300000.0   56300000.0   \n",
       "3  113000000.0    56300000.0      5.656854   56300000.0   56300000.0   \n",
       "4  113000000.0    56300000.0     65.053824   56300000.0   56300000.0   \n",
       "\n",
       "   Bwd IAT Tot  Bwd IAT Mean  Bwd IAT Std  Bwd IAT Max  Bwd IAT Min  \\\n",
       "0     788197.0       78819.7  55863.18804     139285.0         72.0   \n",
       "1          0.0           0.0      0.00000          0.0          0.0   \n",
       "2          0.0           0.0      0.00000          0.0          0.0   \n",
       "3          0.0           0.0      0.00000          0.0          0.0   \n",
       "4          0.0           0.0      0.00000          0.0          0.0   \n",
       "\n",
       "   Fwd PSH Flags  Bwd PSH Flags  Fwd URG Flags  Bwd URG Flags  Fwd Header Len  \\\n",
       "0              0              0              0              0             360   \n",
       "1              0              0              0              0               0   \n",
       "2              0              0              0              0               0   \n",
       "3              0              0              0              0               0   \n",
       "4              0              0              0              0               0   \n",
       "\n",
       "   Bwd Header Len  Fwd Pkts/s  Bwd Pkts/s  Pkt Len Min  Pkt Len Max  \\\n",
       "0             360   12.376920    12.37692          0.0        976.0   \n",
       "1               0    0.026633     0.00000          0.0          0.0   \n",
       "2               0    0.026633     0.00000          0.0          0.0   \n",
       "3               0    0.026633     0.00000          0.0          0.0   \n",
       "4               0    0.026633     0.00000          0.0          0.0   \n",
       "\n",
       "   Pkt Len Mean  Pkt Len Std  Pkt Len Var  FIN Flag Cnt  SYN Flag Cnt  \\\n",
       "0    139.913043   290.633933    84468.083             0             0   \n",
       "1      0.000000     0.000000        0.000             0             0   \n",
       "2      0.000000     0.000000        0.000             0             0   \n",
       "3      0.000000     0.000000        0.000             0             0   \n",
       "4      0.000000     0.000000        0.000             0             0   \n",
       "\n",
       "   RST Flag Cnt  PSH Flag Cnt  ACK Flag Cnt  URG Flag Cnt  CWE Flag Count  \\\n",
       "0             0             1             0             0               0   \n",
       "1             0             0             0             0               0   \n",
       "2             0             0             0             0               0   \n",
       "3             0             0             0             0               0   \n",
       "4             0             0             0             0               0   \n",
       "\n",
       "   ECE Flag Cnt  Down/Up Ratio  Pkt Size Avg  Fwd Seg Size Avg  \\\n",
       "0             0            1.0    146.272727        113.545455   \n",
       "1             0            0.0      0.000000          0.000000   \n",
       "2             0            0.0      0.000000          0.000000   \n",
       "3             0            0.0      0.000000          0.000000   \n",
       "4             0            0.0      0.000000          0.000000   \n",
       "\n",
       "   Bwd Seg Size Avg  Fwd Byts/b Avg  Fwd Pkts/b Avg  Fwd Blk Rate Avg  \\\n",
       "0             179.0               0               0                 0   \n",
       "1               0.0               0               0                 0   \n",
       "2               0.0               0               0                 0   \n",
       "3               0.0               0               0                 0   \n",
       "4               0.0               0               0                 0   \n",
       "\n",
       "   Bwd Byts/b Avg  Bwd Pkts/b Avg  Bwd Blk Rate Avg  Subflow Fwd Pkts  \\\n",
       "0               0               0                 0                11   \n",
       "1               0               0                 0                 3   \n",
       "2               0               0                 0                 3   \n",
       "3               0               0                 0                 3   \n",
       "4               0               0                 0                 3   \n",
       "\n",
       "   Subflow Fwd Byts  Subflow Bwd Pkts  Subflow Bwd Byts  Init Fwd Win Byts  \\\n",
       "0              1249                11              1969              14600   \n",
       "1                 0                 0                 0                 -1   \n",
       "2                 0                 0                 0                 -1   \n",
       "3                 0                 0                 0                 -1   \n",
       "4                 0                 0                 0                 -1   \n",
       "\n",
       "   Init Bwd Win Byts  Fwd Act Data Pkts  Fwd Seg Size Min  Active Mean  \\\n",
       "0                233                  7                32          0.0   \n",
       "1                 -1                  0                 0          0.0   \n",
       "2                 -1                  0                 0          0.0   \n",
       "3                 -1                  0                 0          0.0   \n",
       "4                 -1                  0                 0          0.0   \n",
       "\n",
       "   Active Std  Active Max  Active Min   Idle Mean   Idle Std    Idle Max  \\\n",
       "0         0.0         0.0         0.0         0.0   0.000000         0.0   \n",
       "1         0.0         0.0         0.0  56300000.0   7.071068  56300000.0   \n",
       "2         0.0         0.0         0.0  56300000.0  18.384776  56300000.0   \n",
       "3         0.0         0.0         0.0  56300000.0   5.656854  56300000.0   \n",
       "4         0.0         0.0         0.0  56300000.0  65.053824  56300000.0   \n",
       "\n",
       "     Idle Min   Label  \n",
       "0         0.0  Benign  \n",
       "1  56300000.0  Benign  \n",
       "2  56300000.0  Benign  \n",
       "3  56300000.0  Benign  \n",
       "4  56300000.0  Benign  "
      ]
     },
     "execution_count": 11,
     "metadata": {},
     "output_type": "execute_result"
    }
   ],
   "source": [
    "df_main.head()"
   ]
  },
  {
   "cell_type": "code",
   "execution_count": 12,
   "metadata": {
    "colab": {
     "base_uri": "https://localhost:8080/"
    },
    "id": "rL32JXSVkj-J",
    "outputId": "4e958477-304e-4883-e7fd-899f16414da5"
   },
   "outputs": [
    {
     "data": {
      "text/plain": [
       "Index(['Dst Port', 'Protocol', 'Timestamp', 'Flow Duration', 'Tot Fwd Pkts',\n",
       "       'Tot Bwd Pkts', 'TotLen Fwd Pkts', 'TotLen Bwd Pkts', 'Fwd Pkt Len Max',\n",
       "       'Fwd Pkt Len Min', 'Fwd Pkt Len Mean', 'Fwd Pkt Len Std',\n",
       "       'Bwd Pkt Len Max', 'Bwd Pkt Len Min', 'Bwd Pkt Len Mean',\n",
       "       'Bwd Pkt Len Std', 'Flow Byts/s', 'Flow Pkts/s', 'Flow IAT Mean',\n",
       "       'Flow IAT Std', 'Flow IAT Max', 'Flow IAT Min', 'Fwd IAT Tot',\n",
       "       'Fwd IAT Mean', 'Fwd IAT Std', 'Fwd IAT Max', 'Fwd IAT Min',\n",
       "       'Bwd IAT Tot', 'Bwd IAT Mean', 'Bwd IAT Std', 'Bwd IAT Max',\n",
       "       'Bwd IAT Min', 'Fwd PSH Flags', 'Bwd PSH Flags', 'Fwd URG Flags',\n",
       "       'Bwd URG Flags', 'Fwd Header Len', 'Bwd Header Len', 'Fwd Pkts/s',\n",
       "       'Bwd Pkts/s', 'Pkt Len Min', 'Pkt Len Max', 'Pkt Len Mean',\n",
       "       'Pkt Len Std', 'Pkt Len Var', 'FIN Flag Cnt', 'SYN Flag Cnt',\n",
       "       'RST Flag Cnt', 'PSH Flag Cnt', 'ACK Flag Cnt', 'URG Flag Cnt',\n",
       "       'CWE Flag Count', 'ECE Flag Cnt', 'Down/Up Ratio', 'Pkt Size Avg',\n",
       "       'Fwd Seg Size Avg', 'Bwd Seg Size Avg', 'Fwd Byts/b Avg',\n",
       "       'Fwd Pkts/b Avg', 'Fwd Blk Rate Avg', 'Bwd Byts/b Avg',\n",
       "       'Bwd Pkts/b Avg', 'Bwd Blk Rate Avg', 'Subflow Fwd Pkts',\n",
       "       'Subflow Fwd Byts', 'Subflow Bwd Pkts', 'Subflow Bwd Byts',\n",
       "       'Init Fwd Win Byts', 'Init Bwd Win Byts', 'Fwd Act Data Pkts',\n",
       "       'Fwd Seg Size Min', 'Active Mean', 'Active Std', 'Active Max',\n",
       "       'Active Min', 'Idle Mean', 'Idle Std', 'Idle Max', 'Idle Min', 'Label'],\n",
       "      dtype='object')"
      ]
     },
     "execution_count": 12,
     "metadata": {},
     "output_type": "execute_result"
    }
   ],
   "source": [
    "df_main.columns"
   ]
  },
  {
   "cell_type": "code",
   "execution_count": 13,
   "metadata": {},
   "outputs": [
    {
     "name": "stdout",
     "output_type": "stream",
     "text": [
      "Total columns in our data: 80\n"
     ]
    }
   ],
   "source": [
    "# check the number of columns\n",
    "print('Total columns in our data: %s' % str(len(df_main.columns)))"
   ]
  },
  {
   "cell_type": "code",
   "execution_count": 14,
   "metadata": {
    "colab": {
     "base_uri": "https://localhost:8080/"
    },
    "id": "nvPcWNfwLf31",
    "outputId": "5907d257-cb19-4073-b361-0fc5d5659a0d"
   },
   "outputs": [
    {
     "name": "stdout",
     "output_type": "stream",
     "text": [
      "<class 'pandas.core.frame.DataFrame'>\n",
      "RangeIndex: 8997323 entries, 0 to 8997322\n",
      "Data columns (total 80 columns):\n",
      " #   Column             Dtype  \n",
      "---  ------             -----  \n",
      " 0   Dst Port           int64  \n",
      " 1   Protocol           int64  \n",
      " 2   Timestamp          object \n",
      " 3   Flow Duration      int64  \n",
      " 4   Tot Fwd Pkts       int64  \n",
      " 5   Tot Bwd Pkts       int64  \n",
      " 6   TotLen Fwd Pkts    float64\n",
      " 7   TotLen Bwd Pkts    float64\n",
      " 8   Fwd Pkt Len Max    float64\n",
      " 9   Fwd Pkt Len Min    float64\n",
      " 10  Fwd Pkt Len Mean   float64\n",
      " 11  Fwd Pkt Len Std    float64\n",
      " 12  Bwd Pkt Len Max    float64\n",
      " 13  Bwd Pkt Len Min    float64\n",
      " 14  Bwd Pkt Len Mean   float64\n",
      " 15  Bwd Pkt Len Std    float64\n",
      " 16  Flow Byts/s        float64\n",
      " 17  Flow Pkts/s        float64\n",
      " 18  Flow IAT Mean      float64\n",
      " 19  Flow IAT Std       float64\n",
      " 20  Flow IAT Max       float64\n",
      " 21  Flow IAT Min       float64\n",
      " 22  Fwd IAT Tot        float64\n",
      " 23  Fwd IAT Mean       float64\n",
      " 24  Fwd IAT Std        float64\n",
      " 25  Fwd IAT Max        float64\n",
      " 26  Fwd IAT Min        float64\n",
      " 27  Bwd IAT Tot        float64\n",
      " 28  Bwd IAT Mean       float64\n",
      " 29  Bwd IAT Std        float64\n",
      " 30  Bwd IAT Max        float64\n",
      " 31  Bwd IAT Min        float64\n",
      " 32  Fwd PSH Flags      int64  \n",
      " 33  Bwd PSH Flags      int64  \n",
      " 34  Fwd URG Flags      int64  \n",
      " 35  Bwd URG Flags      int64  \n",
      " 36  Fwd Header Len     int64  \n",
      " 37  Bwd Header Len     int64  \n",
      " 38  Fwd Pkts/s         float64\n",
      " 39  Bwd Pkts/s         float64\n",
      " 40  Pkt Len Min        float64\n",
      " 41  Pkt Len Max        float64\n",
      " 42  Pkt Len Mean       float64\n",
      " 43  Pkt Len Std        float64\n",
      " 44  Pkt Len Var        float64\n",
      " 45  FIN Flag Cnt       int64  \n",
      " 46  SYN Flag Cnt       int64  \n",
      " 47  RST Flag Cnt       int64  \n",
      " 48  PSH Flag Cnt       int64  \n",
      " 49  ACK Flag Cnt       int64  \n",
      " 50  URG Flag Cnt       int64  \n",
      " 51  CWE Flag Count     int64  \n",
      " 52  ECE Flag Cnt       int64  \n",
      " 53  Down/Up Ratio      float64\n",
      " 54  Pkt Size Avg       float64\n",
      " 55  Fwd Seg Size Avg   float64\n",
      " 56  Bwd Seg Size Avg   float64\n",
      " 57  Fwd Byts/b Avg     int64  \n",
      " 58  Fwd Pkts/b Avg     int64  \n",
      " 59  Fwd Blk Rate Avg   int64  \n",
      " 60  Bwd Byts/b Avg     int64  \n",
      " 61  Bwd Pkts/b Avg     int64  \n",
      " 62  Bwd Blk Rate Avg   int64  \n",
      " 63  Subflow Fwd Pkts   int64  \n",
      " 64  Subflow Fwd Byts   int64  \n",
      " 65  Subflow Bwd Pkts   int64  \n",
      " 66  Subflow Bwd Byts   int64  \n",
      " 67  Init Fwd Win Byts  int64  \n",
      " 68  Init Bwd Win Byts  int64  \n",
      " 69  Fwd Act Data Pkts  int64  \n",
      " 70  Fwd Seg Size Min   int64  \n",
      " 71  Active Mean        float64\n",
      " 72  Active Std         float64\n",
      " 73  Active Max         float64\n",
      " 74  Active Min         float64\n",
      " 75  Idle Mean          float64\n",
      " 76  Idle Std           float64\n",
      " 77  Idle Max           float64\n",
      " 78  Idle Min           float64\n",
      " 79  Label              object \n",
      "dtypes: float64(45), int64(33), object(2)\n",
      "memory usage: 5.4+ GB\n"
     ]
    }
   ],
   "source": [
    "df_main.info()"
   ]
  },
  {
   "cell_type": "code",
   "execution_count": 15,
   "metadata": {},
   "outputs": [
    {
     "data": {
      "text/plain": [
       "Label\n",
       "Benign                    7733390\n",
       "DDOS attack-HOIC           686012\n",
       "DDoS attacks-LOIC-HTTP     576191\n",
       "DDOS attack-LOIC-UDP         1730\n",
       "Name: count, dtype: int64"
      ]
     },
     "execution_count": 15,
     "metadata": {},
     "output_type": "execute_result"
    }
   ],
   "source": [
    "# check the number of values for labels\n",
    "df_main['Label'].value_counts()"
   ]
  },
  {
   "cell_type": "code",
   "execution_count": 16,
   "metadata": {},
   "outputs": [
    {
     "data": {
      "image/png": "[encoded data removed]",
      "text/plain": [
       "<Figure size 1200x800 with 1 Axes>"
      ]
     },
     "metadata": {},
     "output_type": "display_data"
    }
   ],
   "source": [
    "# Giả sử df_remain đã có dữ liệu của bạn\n",
    "label_counts = df_main['Label'].value_counts()\n",
    "\n",
    "# Tính tỷ lệ phần trăm cho mỗi nhãn\n",
    "label_percentages = (label_counts / label_counts.sum()) * 100\n",
    "\n",
    "# Tạo biểu đồ cột ngang hiển thị phần trăm\n",
    "plt.figure(figsize=(12, 8))\n",
    "label_percentages.plot(kind='barh', color='skyblue')\n",
    "plt.xlabel('Percentage (%)')\n",
    "plt.ylabel('Label')\n",
    "plt.title('Percentage of Labels')\n",
    "plt.grid(axis='x', linestyle='--', alpha=0.7)\n",
    "\n",
    "# Hiển thị giá trị phần trăm trên mỗi thanh của biểu đồ\n",
    "for index, value in enumerate(label_percentages):\n",
    "    plt.text(value, index, f'{value:.2f}%', va='center')\n",
    "\n",
    "plt.show()\n"
   ]
  },
  {
   "cell_type": "code",
   "execution_count": 17,
   "metadata": {},
   "outputs": [
    {
     "data": {
      "image/png": "[encoded data removed]",
      "text/plain": [
       "<Figure size 800x800 with 1 Axes>"
      ]
     },
     "metadata": {},
     "output_type": "display_data"
    }
   ],
   "source": [
    "import matplotlib.pyplot as plt\n",
    "\n",
    "label_counts = df_main['Label'].value_counts()\n",
    "\n",
    "# Chuyển đổi các nhãn thành hai nhóm: \"Normal\" và \"Attack\"\n",
    "label_groups = label_counts.copy()\n",
    "label_groups['Normal'] = label_groups.pop('Benign')\n",
    "label_groups['Attack'] = label_groups.sum() - label_groups['Normal']\n",
    "\n",
    "# Tạo DataFrame cho biểu đồ tròn\n",
    "pie_data = pd.Series({\n",
    "    'Normal': label_groups['Normal'],\n",
    "    'Attack': label_groups['Attack']\n",
    "})\n",
    "\n",
    "# Tính tỷ lệ phần trăm\n",
    "pie_data_percentage = (pie_data / pie_data.sum()) * 100\n",
    "\n",
    "# Tạo biểu đồ tròn\n",
    "plt.figure(figsize=(8, 8))\n",
    "plt.pie(pie_data_percentage, labels=pie_data_percentage.index, autopct='%1.1f%%', colors=['skyblue', 'salmon'])\n",
    "plt.title('Distribution of Normal and Attack')\n",
    "plt.show()"
   ]
  },
  {
   "cell_type": "markdown",
   "metadata": {
    "id": "r5-V7G60NUg6"
   },
   "source": [
    "Tiền xử lý dữ liệu"
   ]
  },
  {
   "cell_type": "code",
   "execution_count": null,
   "metadata": {},
   "outputs": [],
   "source": [
    "# Remove row with Label[\"Label\"]\n",
    "df_remain.drop(df_remain.loc[df_remain[\"Label\"] == \"Label\"].index, inplace=True)"
   ]
  },
  {
   "cell_type": "code",
   "execution_count": null,
   "metadata": {},
   "outputs": [],
   "source": [
    "# Replace inf values to nan\n",
    "df_remain = df_remain.replace([np.inf, -np.inf], np.nan)\n",
    "# Count nan values\n",
    "df_remain.isna().sum().sum()"
   ]
  },
  {
   "cell_type": "code",
   "execution_count": null,
   "metadata": {},
   "outputs": [],
   "source": [
    "# Drop nan values\n",
    "df_remain.dropna(inplace=True)\n",
    "df_remain.isna().sum().sum()"
   ]
  },
  {
   "cell_type": "code",
   "execution_count": null,
   "metadata": {},
   "outputs": [],
   "source": [
    "df_remain.shape"
   ]
  },
  {
   "cell_type": "code",
   "execution_count": null,
   "metadata": {},
   "outputs": [],
   "source": [
    "# Drop duplicate values\n",
    "df_remain.drop_duplicates(inplace=True)\n",
    "df_remain.shape"
   ]
  },
  {
   "cell_type": "code",
   "execution_count": null,
   "metadata": {},
   "outputs": [],
   "source": [
    "df_remain['Label'] = df_remain['Label'].apply(lambda x: 0 if x.startswith(\"Benign\") else 1)\n",
    "df_remain['Label'].value_counts()"
   ]
  },
  {
   "cell_type": "code",
   "execution_count": null,
   "metadata": {},
   "outputs": [],
   "source": [
    "# Remove timestamp columns\n",
    "df_remain.drop(['Timestamp'], axis=1,inplace=True)"
   ]
  },
  {
   "cell_type": "code",
   "execution_count": null,
   "metadata": {},
   "outputs": [],
   "source": [
    "def convert_to_numeric(df):\n",
    "  \"\"\"Converts all features (except label) from object to float64 or int64.\n",
    "  Args:\n",
    "      df: A pandas DataFrame.\n",
    "\n",
    "  Returns:\n",
    "      A DataFrame with features converted to float64 (if possible).\n",
    "  \"\"\"\n",
    "  # Select all columns except the label column (assuming 'Label' is the name)\n",
    "  numeric_cols = df.columns.difference(['Dst Port', 'Protocol', 'Label'])\n",
    "  # Try converting each column to float, ignoring errors for non-numeric values\n",
    "  for col in numeric_cols:\n",
    "    try:\n",
    "      df[col] = pd.to_numeric(df[col], errors='coerce')\n",
    "    except:\n",
    "      pass\n",
    "  return df\n",
    "\n",
    "df_numeric = convert_to_numeric(df_remain.copy())\n",
    "del df_remain\n",
    "gc.collect()"
   ]
  },
  {
   "cell_type": "code",
   "execution_count": null,
   "metadata": {},
   "outputs": [],
   "source": [
    "# Replace inf values to nan\n",
    "df_numeric = df_numeric.replace([np.inf, -np.inf], np.nan)\n",
    "# Count nan values\n",
    "print(df_numeric.isna().sum().sum())\n",
    "df_numeric.dropna(inplace=True)"
   ]
  },
  {
   "cell_type": "code",
   "execution_count": null,
   "metadata": {},
   "outputs": [],
   "source": [
    "# Loại bỏ các giá trị trùng lặp và cột hằng (constant columns)\n",
    "df_main.drop_duplicates(inplace=True)\n",
    "variances = df_main.var(numeric_only=True)\n",
    "constant_columns = variances[variances == 0].index\n",
    "df_main.drop(constant_columns, axis=1, inplace=True)\n",
    "\n",
    "# In ra các cột hằng và hình dạng của DataFrame sau khi xử lý\n",
    "print(constant_columns)\n",
    "print(df_main.shape)"
   ]
  },
  {
   "cell_type": "code",
   "execution_count": null,
   "metadata": {},
   "outputs": [],
   "source": [
    "print(df_main.shape)\n",
    "print(df_main['Label'].value_counts())"
   ]
  },
  {
   "cell_type": "code",
   "execution_count": null,
   "metadata": {},
   "outputs": [],
   "source": [
    "# Process Protocol columns\n",
    "df_numeric = df_numeric.astype({\"Protocol\": str})\n",
    "df_numeric[\"Protocol\"].unique()"
   ]
  },
  {
   "cell_type": "code",
   "execution_count": null,
   "metadata": {},
   "outputs": [],
   "source": [
    "# Categorical data to onehot\n",
    "df_numeric = pd.get_dummies(df_numeric, columns=['Protocol'])\n",
    "df_numeric.head()"
   ]
  },
  {
   "cell_type": "code",
   "execution_count": null,
   "metadata": {},
   "outputs": [],
   "source": [
    "gc.collect()"
   ]
  },
  {
   "cell_type": "code",
   "execution_count": null,
   "metadata": {},
   "outputs": [],
   "source": [
    "# making Label column the last column again\n",
    "df_numeric.insert(len(df_numeric.columns)-1, 'Label', df_numeric.pop('Label'))"
   ]
  },
  {
   "cell_type": "code",
   "execution_count": null,
   "metadata": {},
   "outputs": [],
   "source": [
    "df_main.head()"
   ]
  },
  {
   "cell_type": "code",
   "execution_count": null,
   "metadata": {},
   "outputs": [],
   "source": [
    "df_numeric = df_numeric.astype({\"Protocol_0\": 'int64', \"Protocol_17\": 'int64', \"Protocol_6\": 'int64'})\n",
    "df_numeric.head()"
   ]
  },
  {
   "cell_type": "code",
   "execution_count": null,
   "metadata": {},
   "outputs": [],
   "source": [
    "df_numeric = df_numeric.astype({\"Dst Port\": str})"
   ]
  },
  {
   "cell_type": "code",
   "execution_count": null,
   "metadata": {},
   "outputs": [],
   "source": [
    "df_numeric = df_numeric.astype({\"Dst Port\": 'int64'})\n",
    "df_numeric.info()"
   ]
  },
  {
   "cell_type": "code",
   "execution_count": null,
   "metadata": {},
   "outputs": [],
   "source": [
    "df_main.shape"
   ]
  },
  {
   "cell_type": "code",
   "execution_count": null,
   "metadata": {},
   "outputs": [],
   "source": [
    "df_main.head()"
   ]
  },
  {
   "cell_type": "code",
   "execution_count": null,
   "metadata": {},
   "outputs": [],
   "source": [
    "df_main.columns"
   ]
  },
  {
   "cell_type": "code",
   "execution_count": null,
   "metadata": {},
   "outputs": [],
   "source": [
    "df_main.info()"
   ]
  },
  {
   "cell_type": "code",
   "execution_count": null,
   "metadata": {},
   "outputs": [],
   "source": [
    "# check the number of values for labels\n",
    "df_main['Label'].value_counts()"
   ]
  },
  {
   "cell_type": "code",
   "execution_count": null,
   "metadata": {},
   "outputs": [],
   "source": [
    "import matplotlib.pyplot as plt\n",
    "\n",
    "label_counts = df_main['Label'].value_counts()\n",
    "\n",
    "# Chuyển đổi các nhãn thành hai nhóm: \"Normal\" và \"Attack\"\n",
    "label_groups = label_counts.copy()\n",
    "label_groups['Normal'] = label_groups.pop(0)\n",
    "label_groups['Attack'] = label_groups.sum() - label_groups[0]\n",
    "\n",
    "# Tạo DataFrame cho biểu đồ tròn\n",
    "pie_data = pd.Series({\n",
    "    'Normal': label_groups['Normal'],\n",
    "    'Attack': label_groups['Attack']\n",
    "})\n",
    "\n",
    "# Tính tỷ lệ phần trăm\n",
    "pie_data_percentage = (pie_data / pie_data.sum()) * 100\n",
    "\n",
    "# Tạo biểu đồ tròn\n",
    "plt.figure(figsize=(8, 8))\n",
    "plt.pie(pie_data_percentage, labels=pie_data_percentage.index, autopct='%1.1f%%', colors=['skyblue', 'salmon'])\n",
    "plt.title('Distribution of Normal and Attack')\n",
    "plt.show()"
   ]
  },
  {
   "cell_type": "code",
   "execution_count": null,
   "metadata": {
    "scrolled": true
   },
   "outputs": [],
   "source": [
    "df_main.to_csv('../../Dataset/IDS 2018 Intrusion CSVs (CSE-CIC-IDS2018)/MainDataset/dataset_main.csv', index=False)"
   ]
  }
 ],
 "metadata": {
  "accelerator": "GPU",
  "colab": {
   "gpuType": "T4",
   "provenance": []
  },
  "kernelspec": {
   "display_name": "Python 3 (ipykernel)",
   "language": "python",
   "name": "python3"
  },
  "language_info": {
   "codemirror_mode": {
    "name": "ipython",
    "version": 3
   },
   "file_extension": ".py",
   "mimetype": "text/x-python",
   "name": "python",
   "nbconvert_exporter": "python",
   "pygments_lexer": "ipython3",
   "version": "3.12.2"
  }
 },
 "nbformat": 4,
 "nbformat_minor": 4
}
