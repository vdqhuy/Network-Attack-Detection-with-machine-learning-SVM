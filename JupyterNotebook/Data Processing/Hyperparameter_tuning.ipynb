{
 "cells": [
  {
   "cell_type": "code",
   "execution_count": 1,
   "id": "9e346e20-837c-4ce0-9761-febaf7587971",
   "metadata": {},
   "outputs": [],
   "source": [
    "import numpy as np\n",
    "import pandas as pd\n",
    "from sklearn.model_selection import train_test_split, GridSearchCV\n",
    "from sklearn.preprocessing import StandardScaler\n",
    "from sklearn.svm import SVC\n",
    "from sklearn.metrics import make_scorer, hinge_loss\n",
    "import matplotlib.pyplot as plt\n",
    "from sklearn.utils import resample\n",
    "import matplotlib.colors\n",
    "from sklearn.inspection import DecisionBoundaryDisplay\n",
    "from sklearn.decomposition import PCA"
   ]
  },
  {
   "cell_type": "code",
   "execution_count": 2,
   "id": "1c2e5ec1-cf6c-4689-915b-248680d16023",
   "metadata": {},
   "outputs": [
    {
     "name": "stdout",
     "output_type": "stream",
     "text": [
      "CPU times: total: 422 ms\n",
      "Wall time: 612 ms\n"
     ]
    }
   ],
   "source": [
    "%%time\n",
    "df_main = pd.read_csv('../../Dataset/IDS 2018 Intrusion CSVs (CSE-CIC-IDS2018)/dataset_dos.csv')"
   ]
  },
  {
   "cell_type": "code",
   "execution_count": 3,
   "id": "753166ac-a071-4a5a-8aa9-2d7aa8f1e4e4",
   "metadata": {},
   "outputs": [
    {
     "data": {
      "text/plain": [
       "393636"
      ]
     },
     "execution_count": 3,
     "metadata": {},
     "output_type": "execute_result"
    }
   ],
   "source": [
    "len(df_main)"
   ]
  },
  {
   "cell_type": "code",
   "execution_count": 4,
   "id": "8592a422-6967-4e8f-bb0a-a1d89d7862db",
   "metadata": {},
   "outputs": [
    {
     "data": {
      "text/plain": [
       "196818"
      ]
     },
     "execution_count": 4,
     "metadata": {},
     "output_type": "execute_result"
    }
   ],
   "source": [
    "len(df_main[df_main['Label'] == 0])"
   ]
  },
  {
   "cell_type": "code",
   "execution_count": 5,
   "id": "b855d972-a2b2-4114-b912-0aed6cc5c86d",
   "metadata": {},
   "outputs": [
    {
     "data": {
      "text/plain": [
       "196818"
      ]
     },
     "execution_count": 5,
     "metadata": {},
     "output_type": "execute_result"
    }
   ],
   "source": [
    "len(df_main[df_main['Label'] == 1])"
   ]
  },
  {
   "cell_type": "code",
   "execution_count": 6,
   "id": "3e6c3762-7397-4162-88b1-3df0a9a48550",
   "metadata": {},
   "outputs": [],
   "source": [
    "df_normal = df_main[df_main['Label'] == 0]\n",
    "df_attack = df_main[df_main['Label'] == 1]"
   ]
  },
  {
   "cell_type": "code",
   "execution_count": 7,
   "id": "44684b86-2208-41ac-9654-85354563bd2b",
   "metadata": {},
   "outputs": [
    {
     "data": {
      "text/plain": [
       "5000"
      ]
     },
     "execution_count": 7,
     "metadata": {},
     "output_type": "execute_result"
    }
   ],
   "source": [
    "df_normal_downsampled = resample(df_normal, replace=False, n_samples=5000, random_state=42)\n",
    "len(df_normal_downsampled)"
   ]
  },
  {
   "cell_type": "code",
   "execution_count": 8,
   "id": "d0f74e2c-8d57-4822-8731-32f4dbea05bf",
   "metadata": {},
   "outputs": [
    {
     "data": {
      "text/plain": [
       "5000"
      ]
     },
     "execution_count": 8,
     "metadata": {},
     "output_type": "execute_result"
    }
   ],
   "source": [
    "df_attack_downsampled = resample(df_attack, replace=False, n_samples=5000, random_state=42)\n",
    "len(df_attack_downsampled)"
   ]
  },
  {
   "cell_type": "code",
   "execution_count": 9,
   "id": "407653ca-8b10-4d4c-9826-29b2a681a9e9",
   "metadata": {},
   "outputs": [
    {
     "data": {
      "text/plain": [
       "10000"
      ]
     },
     "execution_count": 9,
     "metadata": {},
     "output_type": "execute_result"
    }
   ],
   "source": [
    "df_downsample = pd.concat([df_normal_downsampled, df_attack_downsampled])\n",
    "len(df_downsample)"
   ]
  },
  {
   "cell_type": "raw",
   "id": "a413a37b-05a2-49ac-a2ac-d13366f58070",
   "metadata": {},
   "source": [
    "Split data"
   ]
  },
  {
   "cell_type": "code",
   "execution_count": 10,
   "id": "ab2c3ea7-15a4-43d7-bf04-7f18c4bb5561",
   "metadata": {},
   "outputs": [],
   "source": [
    "X = df_downsample.drop(columns='Label')\n",
    "y = df_downsample['Label']\n",
    "\n",
    "# Chia dữ liệu thành tập huấn luyện và tập kiểm tra\n",
    "X_train, X_test, y_train, y_test = train_test_split(X, y, test_size=0.2, random_state=42)"
   ]
  },
  {
   "cell_type": "raw",
   "id": "bdb10c48-6ef8-4f09-90f0-556cf3f4eb5a",
   "metadata": {},
   "source": [
    "Chuẩn hóa dữ liệu"
   ]
  },
  {
   "cell_type": "code",
   "execution_count": 11,
   "id": "2f54d4de-b49d-43ea-8739-938c038d0f47",
   "metadata": {},
   "outputs": [],
   "source": [
    "scaler = StandardScaler()\n",
    "X_train_scaled  = scaler.fit_transform(X_train)\n",
    "X_test_scaled = scaler.transform(X_test)"
   ]
  },
  {
   "cell_type": "raw",
   "id": "ae427e1c-249c-45a8-b2de-f629e0eb785d",
   "metadata": {},
   "source": [
    "Hyperparameter tuning với K-fold cross-validation"
   ]
  },
  {
   "cell_type": "raw",
   "id": "339bfa69-12c9-4d24-9d4f-84abb4b36322",
   "metadata": {},
   "source": [
    "- Cho mô hình SVM_CV"
   ]
  },
  {
   "cell_type": "code",
   "execution_count": 12,
   "id": "ffd240ea-5ea9-4a1b-a026-d41272ff2a99",
   "metadata": {
    "scrolled": true
   },
   "outputs": [
    {
     "name": "stdout",
     "output_type": "stream",
     "text": [
      "Fitting 5 folds for each of 24 candidates, totalling 120 fits\n",
      "[CV 1/5] END ...C=0.5, gamma=scale, kernel=rbf;, score=-0.570 total time=   0.5s\n",
      "[CV 2/5] END ...C=0.5, gamma=scale, kernel=rbf;, score=-0.562 total time=   0.6s\n",
      "[CV 3/5] END ...C=0.5, gamma=scale, kernel=rbf;, score=-0.571 total time=   0.6s\n",
      "[CV 4/5] END ...C=0.5, gamma=scale, kernel=rbf;, score=-0.578 total time=   0.5s\n",
      "[CV 5/5] END ...C=0.5, gamma=scale, kernel=rbf;, score=-0.571 total time=   0.5s\n",
      "[CV 1/5] END .......C=0.5, gamma=1, kernel=rbf;, score=-0.521 total time=   0.4s\n",
      "[CV 2/5] END .......C=0.5, gamma=1, kernel=rbf;, score=-0.524 total time=   0.3s\n",
      "[CV 3/5] END .......C=0.5, gamma=1, kernel=rbf;, score=-0.530 total time=   0.4s\n",
      "[CV 4/5] END .......C=0.5, gamma=1, kernel=rbf;, score=-0.531 total time=   0.4s\n",
      "[CV 5/5] END .......C=0.5, gamma=1, kernel=rbf;, score=-0.524 total time=   0.4s\n",
      "[CV 1/5] END .....C=0.5, gamma=0.1, kernel=rbf;, score=-0.531 total time=   0.5s\n",
      "[CV 2/5] END .....C=0.5, gamma=0.1, kernel=rbf;, score=-0.529 total time=   0.5s\n",
      "[CV 3/5] END .....C=0.5, gamma=0.1, kernel=rbf;, score=-0.539 total time=   0.5s\n",
      "[CV 4/5] END .....C=0.5, gamma=0.1, kernel=rbf;, score=-0.541 total time=   0.5s\n",
      "[CV 5/5] END .....C=0.5, gamma=0.1, kernel=rbf;, score=-0.530 total time=   0.5s\n",
      "[CV 1/5] END ....C=0.5, gamma=0.01, kernel=rbf;, score=-0.587 total time=   0.7s\n",
      "[CV 2/5] END ....C=0.5, gamma=0.01, kernel=rbf;, score=-0.581 total time=   0.8s\n",
      "[CV 3/5] END ....C=0.5, gamma=0.01, kernel=rbf;, score=-0.584 total time=   0.8s\n",
      "[CV 4/5] END ....C=0.5, gamma=0.01, kernel=rbf;, score=-0.598 total time=   0.7s\n",
      "[CV 5/5] END ....C=0.5, gamma=0.01, kernel=rbf;, score=-0.588 total time=   0.7s\n",
      "[CV 1/5] END ...C=0.5, gamma=0.001, kernel=rbf;, score=-0.621 total time=   1.2s\n",
      "[CV 2/5] END ...C=0.5, gamma=0.001, kernel=rbf;, score=-0.614 total time=   1.3s\n",
      "[CV 3/5] END ...C=0.5, gamma=0.001, kernel=rbf;, score=-0.623 total time=   1.3s\n",
      "[CV 4/5] END ...C=0.5, gamma=0.001, kernel=rbf;, score=-0.641 total time=   1.1s\n",
      "[CV 5/5] END ...C=0.5, gamma=0.001, kernel=rbf;, score=-0.626 total time=   1.2s\n",
      "[CV 1/5] END ..C=0.5, gamma=0.0001, kernel=rbf;, score=-0.681 total time=   2.6s\n",
      "[CV 2/5] END ..C=0.5, gamma=0.0001, kernel=rbf;, score=-0.679 total time=   2.7s\n",
      "[CV 3/5] END ..C=0.5, gamma=0.0001, kernel=rbf;, score=-0.684 total time=   2.7s\n",
      "[CV 4/5] END ..C=0.5, gamma=0.0001, kernel=rbf;, score=-0.684 total time=   2.4s\n",
      "[CV 5/5] END ..C=0.5, gamma=0.0001, kernel=rbf;, score=-0.686 total time=   2.6s\n",
      "[CV 1/5] END .....C=1, gamma=scale, kernel=rbf;, score=-0.555 total time=   0.5s\n",
      "[CV 2/5] END .....C=1, gamma=scale, kernel=rbf;, score=-0.547 total time=   0.5s\n",
      "[CV 3/5] END .....C=1, gamma=scale, kernel=rbf;, score=-0.549 total time=   0.5s\n",
      "[CV 4/5] END .....C=1, gamma=scale, kernel=rbf;, score=-0.560 total time=   0.4s\n",
      "[CV 5/5] END .....C=1, gamma=scale, kernel=rbf;, score=-0.562 total time=   0.5s\n",
      "[CV 1/5] END .........C=1, gamma=1, kernel=rbf;, score=-0.517 total time=   0.4s\n",
      "[CV 2/5] END .........C=1, gamma=1, kernel=rbf;, score=-0.522 total time=   0.3s\n",
      "[CV 3/5] END .........C=1, gamma=1, kernel=rbf;, score=-0.527 total time=   0.4s\n",
      "[CV 4/5] END .........C=1, gamma=1, kernel=rbf;, score=-0.527 total time=   0.4s\n",
      "[CV 5/5] END .........C=1, gamma=1, kernel=rbf;, score=-0.520 total time=   0.4s\n",
      "[CV 1/5] END .......C=1, gamma=0.1, kernel=rbf;, score=-0.524 total time=   0.4s\n",
      "[CV 2/5] END .......C=1, gamma=0.1, kernel=rbf;, score=-0.522 total time=   0.5s\n",
      "[CV 3/5] END .......C=1, gamma=0.1, kernel=rbf;, score=-0.532 total time=   0.4s\n",
      "[CV 4/5] END .......C=1, gamma=0.1, kernel=rbf;, score=-0.536 total time=   0.5s\n",
      "[CV 5/5] END .......C=1, gamma=0.1, kernel=rbf;, score=-0.524 total time=   0.5s\n",
      "[CV 1/5] END ......C=1, gamma=0.01, kernel=rbf;, score=-0.579 total time=   0.6s\n",
      "[CV 2/5] END ......C=1, gamma=0.01, kernel=rbf;, score=-0.572 total time=   0.6s\n",
      "[CV 3/5] END ......C=1, gamma=0.01, kernel=rbf;, score=-0.579 total time=   0.6s\n",
      "[CV 4/5] END ......C=1, gamma=0.01, kernel=rbf;, score=-0.588 total time=   0.7s\n",
      "[CV 5/5] END ......C=1, gamma=0.01, kernel=rbf;, score=-0.583 total time=   0.6s\n",
      "[CV 1/5] END .....C=1, gamma=0.001, kernel=rbf;, score=-0.599 total time=   1.0s\n",
      "[CV 2/5] END .....C=1, gamma=0.001, kernel=rbf;, score=-0.606 total time=   1.1s\n",
      "[CV 3/5] END .....C=1, gamma=0.001, kernel=rbf;, score=-0.611 total time=   1.1s\n",
      "[CV 4/5] END .....C=1, gamma=0.001, kernel=rbf;, score=-0.626 total time=   1.0s\n",
      "[CV 5/5] END .....C=1, gamma=0.001, kernel=rbf;, score=-0.611 total time=   1.0s\n",
      "[CV 1/5] END ....C=1, gamma=0.0001, kernel=rbf;, score=-0.627 total time=   2.0s\n",
      "[CV 2/5] END ....C=1, gamma=0.0001, kernel=rbf;, score=-0.624 total time=   1.9s\n",
      "[CV 3/5] END ....C=1, gamma=0.0001, kernel=rbf;, score=-0.625 total time=   1.9s\n",
      "[CV 4/5] END ....C=1, gamma=0.0001, kernel=rbf;, score=-0.632 total time=   2.0s\n",
      "[CV 5/5] END ....C=1, gamma=0.0001, kernel=rbf;, score=-0.629 total time=   2.0s\n",
      "[CV 1/5] END ....C=10, gamma=scale, kernel=rbf;, score=-0.521 total time=   0.4s\n",
      "[CV 2/5] END ....C=10, gamma=scale, kernel=rbf;, score=-0.521 total time=   0.4s\n",
      "[CV 3/5] END ....C=10, gamma=scale, kernel=rbf;, score=-0.531 total time=   0.3s\n",
      "[CV 4/5] END ....C=10, gamma=scale, kernel=rbf;, score=-0.529 total time=   0.4s\n",
      "[CV 5/5] END ....C=10, gamma=scale, kernel=rbf;, score=-0.522 total time=   0.4s\n",
      "[CV 1/5] END ........C=10, gamma=1, kernel=rbf;, score=-0.507 total time=   0.4s\n",
      "[CV 2/5] END ........C=10, gamma=1, kernel=rbf;, score=-0.514 total time=   0.3s\n",
      "[CV 3/5] END ........C=10, gamma=1, kernel=rbf;, score=-0.515 total time=   0.3s\n",
      "[CV 4/5] END ........C=10, gamma=1, kernel=rbf;, score=-0.517 total time=   0.4s\n",
      "[CV 5/5] END ........C=10, gamma=1, kernel=rbf;, score=-0.517 total time=   0.4s\n",
      "[CV 1/5] END ......C=10, gamma=0.1, kernel=rbf;, score=-0.518 total time=   0.3s\n",
      "[CV 2/5] END ......C=10, gamma=0.1, kernel=rbf;, score=-0.521 total time=   0.3s\n",
      "[CV 3/5] END ......C=10, gamma=0.1, kernel=rbf;, score=-0.524 total time=   0.3s\n",
      "[CV 4/5] END ......C=10, gamma=0.1, kernel=rbf;, score=-0.524 total time=   0.3s\n",
      "[CV 5/5] END ......C=10, gamma=0.1, kernel=rbf;, score=-0.519 total time=   0.3s\n",
      "[CV 1/5] END .....C=10, gamma=0.01, kernel=rbf;, score=-0.561 total time=   0.4s\n",
      "[CV 2/5] END .....C=10, gamma=0.01, kernel=rbf;, score=-0.556 total time=   0.5s\n",
      "[CV 3/5] END .....C=10, gamma=0.01, kernel=rbf;, score=-0.568 total time=   0.5s\n",
      "[CV 4/5] END .....C=10, gamma=0.01, kernel=rbf;, score=-0.571 total time=   0.5s\n",
      "[CV 5/5] END .....C=10, gamma=0.01, kernel=rbf;, score=-0.565 total time=   0.5s\n",
      "[CV 1/5] END ....C=10, gamma=0.001, kernel=rbf;, score=-0.591 total time=   0.6s\n",
      "[CV 2/5] END ....C=10, gamma=0.001, kernel=rbf;, score=-0.583 total time=   0.7s\n",
      "[CV 3/5] END ....C=10, gamma=0.001, kernel=rbf;, score=-0.588 total time=   0.7s\n",
      "[CV 4/5] END ....C=10, gamma=0.001, kernel=rbf;, score=-0.597 total time=   0.6s\n",
      "[CV 5/5] END ....C=10, gamma=0.001, kernel=rbf;, score=-0.590 total time=   0.6s\n",
      "[CV 1/5] END ...C=10, gamma=0.0001, kernel=rbf;, score=-0.614 total time=   0.9s\n",
      "[CV 2/5] END ...C=10, gamma=0.0001, kernel=rbf;, score=-0.608 total time=   0.9s\n",
      "[CV 3/5] END ...C=10, gamma=0.0001, kernel=rbf;, score=-0.613 total time=   1.0s\n",
      "[CV 4/5] END ...C=10, gamma=0.0001, kernel=rbf;, score=-0.628 total time=   0.9s\n",
      "[CV 5/5] END ...C=10, gamma=0.0001, kernel=rbf;, score=-0.617 total time=   0.9s\n",
      "[CV 1/5] END ...C=100, gamma=scale, kernel=rbf;, score=-0.515 total time=   0.3s\n",
      "[CV 2/5] END ...C=100, gamma=scale, kernel=rbf;, score=-0.518 total time=   0.3s\n",
      "[CV 3/5] END ...C=100, gamma=scale, kernel=rbf;, score=-0.519 total time=   0.3s\n",
      "[CV 4/5] END ...C=100, gamma=scale, kernel=rbf;, score=-0.521 total time=   0.3s\n",
      "[CV 5/5] END ...C=100, gamma=scale, kernel=rbf;, score=-0.519 total time=   0.3s\n",
      "[CV 1/5] END .......C=100, gamma=1, kernel=rbf;, score=-0.503 total time=   0.3s\n",
      "[CV 2/5] END .......C=100, gamma=1, kernel=rbf;, score=-0.507 total time=   0.2s\n",
      "[CV 3/5] END .......C=100, gamma=1, kernel=rbf;, score=-0.506 total time=   0.3s\n",
      "[CV 4/5] END .......C=100, gamma=1, kernel=rbf;, score=-0.506 total time=   0.2s\n",
      "[CV 5/5] END .......C=100, gamma=1, kernel=rbf;, score=-0.506 total time=   0.3s\n",
      "[CV 1/5] END .....C=100, gamma=0.1, kernel=rbf;, score=-0.506 total time=   0.3s\n",
      "[CV 2/5] END .....C=100, gamma=0.1, kernel=rbf;, score=-0.509 total time=   0.3s\n",
      "[CV 3/5] END .....C=100, gamma=0.1, kernel=rbf;, score=-0.509 total time=   0.3s\n",
      "[CV 4/5] END .....C=100, gamma=0.1, kernel=rbf;, score=-0.507 total time=   0.3s\n",
      "[CV 5/5] END .....C=100, gamma=0.1, kernel=rbf;, score=-0.507 total time=   0.4s\n",
      "[CV 1/5] END ....C=100, gamma=0.01, kernel=rbf;, score=-0.521 total time=   0.4s\n",
      "[CV 2/5] END ....C=100, gamma=0.01, kernel=rbf;, score=-0.521 total time=   0.5s\n",
      "[CV 3/5] END ....C=100, gamma=0.01, kernel=rbf;, score=-0.527 total time=   0.4s\n",
      "[CV 4/5] END ....C=100, gamma=0.01, kernel=rbf;, score=-0.527 total time=   0.4s\n",
      "[CV 5/5] END ....C=100, gamma=0.01, kernel=rbf;, score=-0.522 total time=   0.4s\n",
      "[CV 1/5] END ...C=100, gamma=0.001, kernel=rbf;, score=-0.577 total time=   0.6s\n",
      "[CV 2/5] END ...C=100, gamma=0.001, kernel=rbf;, score=-0.569 total time=   0.6s\n",
      "[CV 3/5] END ...C=100, gamma=0.001, kernel=rbf;, score=-0.571 total time=   0.6s\n",
      "[CV 4/5] END ...C=100, gamma=0.001, kernel=rbf;, score=-0.584 total time=   0.6s\n",
      "[CV 5/5] END ...C=100, gamma=0.001, kernel=rbf;, score=-0.578 total time=   0.6s\n",
      "[CV 1/5] END ..C=100, gamma=0.0001, kernel=rbf;, score=-0.596 total time=   0.7s\n",
      "[CV 2/5] END ..C=100, gamma=0.0001, kernel=rbf;, score=-0.589 total time=   0.7s\n",
      "[CV 3/5] END ..C=100, gamma=0.0001, kernel=rbf;, score=-0.589 total time=   0.7s\n",
      "[CV 4/5] END ..C=100, gamma=0.0001, kernel=rbf;, score=-0.601 total time=   0.7s\n",
      "[CV 5/5] END ..C=100, gamma=0.0001, kernel=rbf;, score=-0.594 total time=   0.7s\n",
      "{'C': 100, 'gamma': 1, 'kernel': 'rbf'}\n",
      "Best score: -0.505625\n",
      "CPU times: total: 1min 19s\n",
      "Wall time: 1min 35s\n"
     ]
    }
   ],
   "source": [
    "%%time\n",
    "# Định nghĩa các siêu tham số cần tìm kiếm\n",
    "param_grid = {\n",
    "    'C': [0.5, 1, 10, 100],\n",
    "    'gamma': ['scale', 1, 0.1, 0.01, 0.001, 0.0001],\n",
    "    'kernel': ['rbf']\n",
    "}\n",
    "\n",
    "# Tạo scorer dựa trên Hinge Loss\n",
    "hinge_scorer = make_scorer(hinge_loss, greater_is_better=False)\n",
    "\n",
    "# Khởi tạo GridSearchCV với SVM\n",
    "optimal_params = GridSearchCV(\n",
    "    SVC(),\n",
    "    param_grid,\n",
    "    cv=5,\n",
    "    scoring=hinge_scorer,\n",
    "    verbose=3\n",
    ")\n",
    "\n",
    "# Huấn luyện GridSearchCV\n",
    "optimal_params.fit(X_train_scaled, y_train)\n",
    "\n",
    "# In ra các siêu tham số tốt nhất\n",
    "print(optimal_params.best_params_)\n",
    "print(f'Best score: {optimal_params.best_score_}')"
   ]
  },
  {
   "cell_type": "raw",
   "id": "7d534a22-f12d-4561-a9f7-f56942fb007d",
   "metadata": {},
   "source": [
    "- Cho mô hình SVM_PCA_2d"
   ]
  },
  {
   "cell_type": "code",
   "execution_count": 13,
   "id": "ba6efb96-313b-476f-afa9-6297062fbffd",
   "metadata": {
    "scrolled": true
   },
   "outputs": [
    {
     "name": "stdout",
     "output_type": "stream",
     "text": [
      "Fitting 5 folds for each of 30 candidates, totalling 150 fits\n",
      "[CV 1/5] END ...C=0.1, gamma=scale, kernel=rbf;, score=-0.651 total time=   1.1s\n",
      "[CV 2/5] END ...C=0.1, gamma=scale, kernel=rbf;, score=-0.652 total time=   1.2s\n",
      "[CV 3/5] END ...C=0.1, gamma=scale, kernel=rbf;, score=-0.644 total time=   1.2s\n",
      "[CV 4/5] END ...C=0.1, gamma=scale, kernel=rbf;, score=-0.646 total time=   1.1s\n",
      "[CV 5/5] END ...C=0.1, gamma=scale, kernel=rbf;, score=-0.649 total time=   1.0s\n",
      "[CV 1/5] END .......C=0.1, gamma=1, kernel=rbf;, score=-0.651 total time=   1.0s\n",
      "[CV 2/5] END .......C=0.1, gamma=1, kernel=rbf;, score=-0.648 total time=   1.0s\n",
      "[CV 3/5] END .......C=0.1, gamma=1, kernel=rbf;, score=-0.644 total time=   0.9s\n",
      "[CV 4/5] END .......C=0.1, gamma=1, kernel=rbf;, score=-0.647 total time=   1.0s\n",
      "[CV 5/5] END .......C=0.1, gamma=1, kernel=rbf;, score=-0.644 total time=   1.0s\n",
      "[CV 1/5] END .....C=0.1, gamma=0.1, kernel=rbf;, score=-0.661 total time=   1.6s\n",
      "[CV 2/5] END .....C=0.1, gamma=0.1, kernel=rbf;, score=-0.663 total time=   1.7s\n",
      "[CV 3/5] END .....C=0.1, gamma=0.1, kernel=rbf;, score=-0.654 total time=   1.6s\n",
      "[CV 4/5] END .....C=0.1, gamma=0.1, kernel=rbf;, score=-0.662 total time=   1.6s\n",
      "[CV 5/5] END .....C=0.1, gamma=0.1, kernel=rbf;, score=-0.659 total time=   1.6s\n",
      "[CV 1/5] END ....C=0.1, gamma=0.01, kernel=rbf;, score=-0.814 total time=   2.0s\n",
      "[CV 2/5] END ....C=0.1, gamma=0.01, kernel=rbf;, score=-0.772 total time=   2.0s\n",
      "[CV 3/5] END ....C=0.1, gamma=0.01, kernel=rbf;, score=-0.795 total time=   2.1s\n",
      "[CV 4/5] END ....C=0.1, gamma=0.01, kernel=rbf;, score=-0.810 total time=   2.1s\n",
      "[CV 5/5] END ....C=0.1, gamma=0.01, kernel=rbf;, score=-0.798 total time=   2.1s\n",
      "[CV 1/5] END ...C=0.1, gamma=0.001, kernel=rbf;, score=-0.997 total time=   2.2s\n",
      "[CV 2/5] END ...C=0.1, gamma=0.001, kernel=rbf;, score=-0.998 total time=   2.2s\n",
      "[CV 3/5] END ...C=0.1, gamma=0.001, kernel=rbf;, score=-0.996 total time=   2.2s\n",
      "[CV 4/5] END ...C=0.1, gamma=0.001, kernel=rbf;, score=-0.998 total time=   2.3s\n",
      "[CV 5/5] END ...C=0.1, gamma=0.001, kernel=rbf;, score=-0.998 total time=   2.3s\n",
      "[CV 1/5] END ..C=0.1, gamma=0.0001, kernel=rbf;, score=-0.996 total time=   2.2s\n",
      "[CV 2/5] END ..C=0.1, gamma=0.0001, kernel=rbf;, score=-0.996 total time=   2.2s\n",
      "[CV 3/5] END ..C=0.1, gamma=0.0001, kernel=rbf;, score=-0.998 total time=   2.2s\n",
      "[CV 4/5] END ..C=0.1, gamma=0.0001, kernel=rbf;, score=-0.998 total time=   2.2s\n",
      "[CV 5/5] END ..C=0.1, gamma=0.0001, kernel=rbf;, score=-0.998 total time=   2.2s\n",
      "[CV 1/5] END ...C=0.5, gamma=scale, kernel=rbf;, score=-0.652 total time=   1.1s\n",
      "[CV 2/5] END ...C=0.5, gamma=scale, kernel=rbf;, score=-0.648 total time=   1.0s\n",
      "[CV 3/5] END ...C=0.5, gamma=scale, kernel=rbf;, score=-0.646 total time=   1.0s\n",
      "[CV 4/5] END ...C=0.5, gamma=scale, kernel=rbf;, score=-0.647 total time=   0.9s\n",
      "[CV 5/5] END ...C=0.5, gamma=scale, kernel=rbf;, score=-0.646 total time=   1.0s\n",
      "[CV 1/5] END .......C=0.5, gamma=1, kernel=rbf;, score=-0.564 total time=   0.7s\n",
      "[CV 2/5] END .......C=0.5, gamma=1, kernel=rbf;, score=-0.561 total time=   0.8s\n",
      "[CV 3/5] END .......C=0.5, gamma=1, kernel=rbf;, score=-0.572 total time=   0.6s\n",
      "[CV 4/5] END .......C=0.5, gamma=1, kernel=rbf;, score=-0.581 total time=   0.8s\n",
      "[CV 5/5] END .......C=0.5, gamma=1, kernel=rbf;, score=-0.566 total time=   0.7s\n",
      "[CV 1/5] END .....C=0.5, gamma=0.1, kernel=rbf;, score=-0.659 total time=   1.3s\n",
      "[CV 2/5] END .....C=0.5, gamma=0.1, kernel=rbf;, score=-0.662 total time=   1.2s\n",
      "[CV 3/5] END .....C=0.5, gamma=0.1, kernel=rbf;, score=-0.650 total time=   1.2s\n",
      "[CV 4/5] END .....C=0.5, gamma=0.1, kernel=rbf;, score=-0.655 total time=   1.1s\n",
      "[CV 5/5] END .....C=0.5, gamma=0.1, kernel=rbf;, score=-0.659 total time=   1.3s\n",
      "[CV 1/5] END ....C=0.5, gamma=0.01, kernel=rbf;, score=-0.873 total time=   2.3s\n",
      "[CV 2/5] END ....C=0.5, gamma=0.01, kernel=rbf;, score=-0.844 total time=   2.1s\n",
      "[CV 3/5] END ....C=0.5, gamma=0.01, kernel=rbf;, score=-0.853 total time=   2.1s\n",
      "[CV 4/5] END ....C=0.5, gamma=0.01, kernel=rbf;, score=-0.868 total time=   2.0s\n",
      "[CV 5/5] END ....C=0.5, gamma=0.01, kernel=rbf;, score=-0.857 total time=   2.2s\n",
      "[CV 1/5] END ...C=0.5, gamma=0.001, kernel=rbf;, score=-0.783 total time=   2.3s\n",
      "[CV 2/5] END ...C=0.5, gamma=0.001, kernel=rbf;, score=-0.973 total time=   2.3s\n",
      "[CV 3/5] END ...C=0.5, gamma=0.001, kernel=rbf;, score=-0.775 total time=   2.3s\n",
      "[CV 4/5] END ...C=0.5, gamma=0.001, kernel=rbf;, score=-0.780 total time=   2.3s\n",
      "[CV 5/5] END ...C=0.5, gamma=0.001, kernel=rbf;, score=-0.778 total time=   2.2s\n",
      "[CV 1/5] END ..C=0.5, gamma=0.0001, kernel=rbf;, score=-0.996 total time=   2.2s\n",
      "[CV 2/5] END ..C=0.5, gamma=0.0001, kernel=rbf;, score=-0.996 total time=   2.2s\n",
      "[CV 3/5] END ..C=0.5, gamma=0.0001, kernel=rbf;, score=-0.997 total time=   2.2s\n",
      "[CV 4/5] END ..C=0.5, gamma=0.0001, kernel=rbf;, score=-0.997 total time=   2.3s\n",
      "[CV 5/5] END ..C=0.5, gamma=0.0001, kernel=rbf;, score=-0.998 total time=   2.1s\n",
      "[CV 1/5] END .....C=1, gamma=scale, kernel=rbf;, score=-0.650 total time=   0.9s\n",
      "[CV 2/5] END .....C=1, gamma=scale, kernel=rbf;, score=-0.648 total time=   0.9s\n",
      "[CV 3/5] END .....C=1, gamma=scale, kernel=rbf;, score=-0.646 total time=   0.9s\n",
      "[CV 4/5] END .....C=1, gamma=scale, kernel=rbf;, score=-0.651 total time=   0.9s\n",
      "[CV 5/5] END .....C=1, gamma=scale, kernel=rbf;, score=-0.644 total time=   1.0s\n",
      "[CV 1/5] END .........C=1, gamma=1, kernel=rbf;, score=-0.551 total time=   0.6s\n",
      "[CV 2/5] END .........C=1, gamma=1, kernel=rbf;, score=-0.549 total time=   0.6s\n",
      "[CV 3/5] END .........C=1, gamma=1, kernel=rbf;, score=-0.557 total time=   0.7s\n",
      "[CV 4/5] END .........C=1, gamma=1, kernel=rbf;, score=-0.562 total time=   0.6s\n",
      "[CV 5/5] END .........C=1, gamma=1, kernel=rbf;, score=-0.550 total time=   0.6s\n",
      "[CV 1/5] END .......C=1, gamma=0.1, kernel=rbf;, score=-0.657 total time=   1.2s\n",
      "[CV 2/5] END .......C=1, gamma=0.1, kernel=rbf;, score=-0.659 total time=   1.2s\n",
      "[CV 3/5] END .......C=1, gamma=0.1, kernel=rbf;, score=-0.653 total time=   1.3s\n",
      "[CV 4/5] END .......C=1, gamma=0.1, kernel=rbf;, score=-0.654 total time=   1.2s\n",
      "[CV 5/5] END .......C=1, gamma=0.1, kernel=rbf;, score=-0.661 total time=   1.1s\n",
      "[CV 1/5] END ......C=1, gamma=0.01, kernel=rbf;, score=-0.863 total time=   2.1s\n",
      "[CV 2/5] END ......C=1, gamma=0.01, kernel=rbf;, score=-0.825 total time=   2.0s\n",
      "[CV 3/5] END ......C=1, gamma=0.01, kernel=rbf;, score=-0.848 total time=   2.0s\n",
      "[CV 4/5] END ......C=1, gamma=0.01, kernel=rbf;, score=-0.852 total time=   1.9s\n",
      "[CV 5/5] END ......C=1, gamma=0.01, kernel=rbf;, score=-0.853 total time=   2.1s\n",
      "[CV 1/5] END .....C=1, gamma=0.001, kernel=rbf;, score=-0.802 total time=   2.2s\n",
      "[CV 2/5] END .....C=1, gamma=0.001, kernel=rbf;, score=-0.768 total time=   2.5s\n",
      "[CV 3/5] END .....C=1, gamma=0.001, kernel=rbf;, score=-0.786 total time=   2.3s\n",
      "[CV 4/5] END .....C=1, gamma=0.001, kernel=rbf;, score=-0.794 total time=   2.3s\n",
      "[CV 5/5] END .....C=1, gamma=0.001, kernel=rbf;, score=-0.774 total time=   2.2s\n",
      "[CV 1/5] END ....C=1, gamma=0.0001, kernel=rbf;, score=-0.997 total time=   2.2s\n",
      "[CV 2/5] END ....C=1, gamma=0.0001, kernel=rbf;, score=-0.998 total time=   2.5s\n",
      "[CV 3/5] END ....C=1, gamma=0.0001, kernel=rbf;, score=-0.996 total time=   2.4s\n",
      "[CV 4/5] END ....C=1, gamma=0.0001, kernel=rbf;, score=-0.998 total time=   2.2s\n",
      "[CV 5/5] END ....C=1, gamma=0.0001, kernel=rbf;, score=-0.998 total time=   2.2s\n",
      "[CV 1/5] END ....C=10, gamma=scale, kernel=rbf;, score=-0.562 total time=   0.8s\n",
      "[CV 2/5] END ....C=10, gamma=scale, kernel=rbf;, score=-0.559 total time=   0.7s\n",
      "[CV 3/5] END ....C=10, gamma=scale, kernel=rbf;, score=-0.574 total time=   0.6s\n",
      "[CV 4/5] END ....C=10, gamma=scale, kernel=rbf;, score=-0.561 total time=   0.7s\n",
      "[CV 5/5] END ....C=10, gamma=scale, kernel=rbf;, score=-0.564 total time=   0.8s\n",
      "[CV 1/5] END ........C=10, gamma=1, kernel=rbf;, score=-0.541 total time=   0.3s\n",
      "[CV 2/5] END ........C=10, gamma=1, kernel=rbf;, score=-0.539 total time=   0.4s\n",
      "[CV 3/5] END ........C=10, gamma=1, kernel=rbf;, score=-0.545 total time=   0.3s\n",
      "[CV 4/5] END ........C=10, gamma=1, kernel=rbf;, score=-0.549 total time=   0.4s\n",
      "[CV 5/5] END ........C=10, gamma=1, kernel=rbf;, score=-0.541 total time=   0.3s\n",
      "[CV 1/5] END ......C=10, gamma=0.1, kernel=rbf;, score=-0.651 total time=   1.2s\n",
      "[CV 2/5] END ......C=10, gamma=0.1, kernel=rbf;, score=-0.651 total time=   1.3s\n",
      "[CV 3/5] END ......C=10, gamma=0.1, kernel=rbf;, score=-0.644 total time=   1.2s\n",
      "[CV 4/5] END ......C=10, gamma=0.1, kernel=rbf;, score=-0.646 total time=   1.2s\n",
      "[CV 5/5] END ......C=10, gamma=0.1, kernel=rbf;, score=-0.647 total time=   1.2s\n",
      "[CV 1/5] END .....C=10, gamma=0.01, kernel=rbf;, score=-0.713 total time=   1.8s\n",
      "[CV 2/5] END .....C=10, gamma=0.01, kernel=rbf;, score=-0.698 total time=   2.0s\n",
      "[CV 3/5] END .....C=10, gamma=0.01, kernel=rbf;, score=-0.715 total time=   2.0s\n",
      "[CV 4/5] END .....C=10, gamma=0.01, kernel=rbf;, score=-0.718 total time=   1.9s\n",
      "[CV 5/5] END .....C=10, gamma=0.01, kernel=rbf;, score=-0.713 total time=   1.8s\n",
      "[CV 1/5] END ....C=10, gamma=0.001, kernel=rbf;, score=-0.881 total time=   2.3s\n",
      "[CV 2/5] END ....C=10, gamma=0.001, kernel=rbf;, score=-0.854 total time=   2.2s\n",
      "[CV 3/5] END ....C=10, gamma=0.001, kernel=rbf;, score=-0.865 total time=   2.1s\n",
      "[CV 4/5] END ....C=10, gamma=0.001, kernel=rbf;, score=-0.875 total time=   2.1s\n",
      "[CV 5/5] END ....C=10, gamma=0.001, kernel=rbf;, score=-0.868 total time=   2.2s\n",
      "[CV 1/5] END ...C=10, gamma=0.0001, kernel=rbf;, score=-0.800 total time=   2.2s\n",
      "[CV 2/5] END ...C=10, gamma=0.0001, kernel=rbf;, score=-0.766 total time=   2.2s\n",
      "[CV 3/5] END ...C=10, gamma=0.0001, kernel=rbf;, score=-0.786 total time=   2.2s\n",
      "[CV 4/5] END ...C=10, gamma=0.0001, kernel=rbf;, score=-0.794 total time=   2.1s\n",
      "[CV 5/5] END ...C=10, gamma=0.0001, kernel=rbf;, score=-0.774 total time=   2.2s\n",
      "[CV 1/5] END ...C=100, gamma=scale, kernel=rbf;, score=-0.542 total time=   0.6s\n",
      "[CV 2/5] END ...C=100, gamma=scale, kernel=rbf;, score=-0.540 total time=   0.9s\n",
      "[CV 3/5] END ...C=100, gamma=scale, kernel=rbf;, score=-0.546 total time=   0.5s\n",
      "[CV 4/5] END ...C=100, gamma=scale, kernel=rbf;, score=-0.549 total time=   0.7s\n",
      "[CV 5/5] END ...C=100, gamma=scale, kernel=rbf;, score=-0.539 total time=   0.9s\n",
      "[CV 1/5] END .......C=100, gamma=1, kernel=rbf;, score=-0.534 total time=   0.3s\n",
      "[CV 2/5] END .......C=100, gamma=1, kernel=rbf;, score=-0.534 total time=   0.3s\n",
      "[CV 3/5] END .......C=100, gamma=1, kernel=rbf;, score=-0.541 total time=   0.3s\n",
      "[CV 4/5] END .......C=100, gamma=1, kernel=rbf;, score=-0.542 total time=   0.3s\n",
      "[CV 5/5] END .......C=100, gamma=1, kernel=rbf;, score=-0.537 total time=   0.4s\n",
      "[CV 1/5] END .....C=100, gamma=0.1, kernel=rbf;, score=-0.649 total time=   1.4s\n",
      "[CV 2/5] END .....C=100, gamma=0.1, kernel=rbf;, score=-0.646 total time=   1.3s\n",
      "[CV 3/5] END .....C=100, gamma=0.1, kernel=rbf;, score=-0.647 total time=   1.7s\n",
      "[CV 4/5] END .....C=100, gamma=0.1, kernel=rbf;, score=-0.645 total time=   1.2s\n",
      "[CV 5/5] END .....C=100, gamma=0.1, kernel=rbf;, score=-0.645 total time=   1.4s\n",
      "[CV 1/5] END ....C=100, gamma=0.01, kernel=rbf;, score=-0.661 total time=   1.8s\n",
      "[CV 2/5] END ....C=100, gamma=0.01, kernel=rbf;, score=-0.666 total time=   1.7s\n",
      "[CV 3/5] END ....C=100, gamma=0.01, kernel=rbf;, score=-0.652 total time=   1.6s\n",
      "[CV 4/5] END ....C=100, gamma=0.01, kernel=rbf;, score=-0.659 total time=   1.7s\n",
      "[CV 5/5] END ....C=100, gamma=0.01, kernel=rbf;, score=-0.662 total time=   1.7s\n",
      "[CV 1/5] END ...C=100, gamma=0.001, kernel=rbf;, score=-0.864 total time=   2.0s\n",
      "[CV 2/5] END ...C=100, gamma=0.001, kernel=rbf;, score=-0.831 total time=   2.4s\n",
      "[CV 3/5] END ...C=100, gamma=0.001, kernel=rbf;, score=-0.851 total time=   2.5s\n",
      "[CV 4/5] END ...C=100, gamma=0.001, kernel=rbf;, score=-0.858 total time=   2.5s\n",
      "[CV 5/5] END ...C=100, gamma=0.001, kernel=rbf;, score=-0.859 total time=   2.2s\n",
      "[CV 1/5] END ..C=100, gamma=0.0001, kernel=rbf;, score=-0.881 total time=   2.2s\n",
      "[CV 2/5] END ..C=100, gamma=0.0001, kernel=rbf;, score=-0.847 total time=   2.3s\n",
      "[CV 3/5] END ..C=100, gamma=0.0001, kernel=rbf;, score=-0.863 total time=   2.2s\n",
      "[CV 4/5] END ..C=100, gamma=0.0001, kernel=rbf;, score=-0.876 total time=   2.1s\n",
      "[CV 5/5] END ..C=100, gamma=0.0001, kernel=rbf;, score=-0.869 total time=   2.1s\n",
      "{'C': 100, 'gamma': 1, 'kernel': 'rbf'}\n",
      "Best score: -0.537625\n",
      "CPU times: total: 3min 21s\n",
      "Wall time: 4min 7s\n"
     ]
    }
   ],
   "source": [
    "%%time\n",
    "pca = PCA(n_components=2)\n",
    "X_train_pca = pca.fit_transform(X_train_scaled)\n",
    "\n",
    "train_pc1_coords = X_train_pca[:, 0]\n",
    "train_pc2_coords = X_train_pca[:, 1]\n",
    "pca_train_scaled = StandardScaler().fit_transform(np.column_stack((train_pc1_coords, train_pc2_coords)))\n",
    "\n",
    "param_grid = {\n",
    "    'C': [0.1, 0.5, 1, 10, 100],\n",
    "    'gamma': ['scale', 1, 0.1, 0.01, 0.001, 0.0001],\n",
    "    'kernel': ['rbf']\n",
    "}\n",
    "\n",
    "# Tạo scorer dựa trên Hinge Loss\n",
    "hinge_scorer = make_scorer(hinge_loss, greater_is_better=False)\n",
    "\n",
    "optimal_params = GridSearchCV(\n",
    "    SVC(),\n",
    "    param_grid,\n",
    "    cv=5,\n",
    "    scoring=hinge_scorer,\n",
    "    verbose=3\n",
    ")\n",
    "\n",
    "optimal_params.fit(pca_train_scaled, y_train)\n",
    "print(optimal_params.best_params_)\n",
    "print(f'Best score: {optimal_params.best_score_}')"
   ]
  },
  {
   "cell_type": "raw",
   "id": "a23ad731-9642-4e9d-b265-feec9479826d",
   "metadata": {},
   "source": [
    "- Cho mô hình SVM_PCA_3d"
   ]
  },
  {
   "cell_type": "code",
   "execution_count": 14,
   "id": "b346c70e-dfdc-4216-87fd-3a40f9833e2b",
   "metadata": {
    "scrolled": true
   },
   "outputs": [
    {
     "name": "stdout",
     "output_type": "stream",
     "text": [
      "Fitting 5 folds for each of 24 candidates, totalling 120 fits\n",
      "[CV 1/5] END ...C=0.5, gamma=scale, kernel=rbf;, score=-0.601 total time=   1.1s\n",
      "[CV 2/5] END ...C=0.5, gamma=scale, kernel=rbf;, score=-0.604 total time=   1.0s\n",
      "[CV 3/5] END ...C=0.5, gamma=scale, kernel=rbf;, score=-0.593 total time=   1.0s\n",
      "[CV 4/5] END ...C=0.5, gamma=scale, kernel=rbf;, score=-0.601 total time=   0.9s\n",
      "[CV 5/5] END ...C=0.5, gamma=scale, kernel=rbf;, score=-0.600 total time=   1.0s\n",
      "[CV 1/5] END .......C=0.5, gamma=1, kernel=rbf;, score=-0.541 total time=   0.5s\n",
      "[CV 2/5] END .......C=0.5, gamma=1, kernel=rbf;, score=-0.534 total time=   0.6s\n",
      "[CV 3/5] END .......C=0.5, gamma=1, kernel=rbf;, score=-0.542 total time=   0.5s\n",
      "[CV 4/5] END .......C=0.5, gamma=1, kernel=rbf;, score=-0.546 total time=   0.5s\n",
      "[CV 5/5] END .......C=0.5, gamma=1, kernel=rbf;, score=-0.540 total time=   0.5s\n",
      "[CV 1/5] END .....C=0.5, gamma=0.1, kernel=rbf;, score=-0.659 total time=   0.9s\n",
      "[CV 2/5] END .....C=0.5, gamma=0.1, kernel=rbf;, score=-0.658 total time=   1.0s\n",
      "[CV 3/5] END .....C=0.5, gamma=0.1, kernel=rbf;, score=-0.645 total time=   0.9s\n",
      "[CV 4/5] END .....C=0.5, gamma=0.1, kernel=rbf;, score=-0.649 total time=   1.1s\n",
      "[CV 5/5] END .....C=0.5, gamma=0.1, kernel=rbf;, score=-0.654 total time=   1.0s\n",
      "[CV 1/5] END ....C=0.5, gamma=0.01, kernel=rbf;, score=-0.776 total time=   1.3s\n",
      "[CV 2/5] END ....C=0.5, gamma=0.01, kernel=rbf;, score=-0.762 total time=   1.4s\n",
      "[CV 3/5] END ....C=0.5, gamma=0.01, kernel=rbf;, score=-0.766 total time=   1.4s\n",
      "[CV 4/5] END ....C=0.5, gamma=0.01, kernel=rbf;, score=-0.761 total time=   1.4s\n",
      "[CV 5/5] END ....C=0.5, gamma=0.01, kernel=rbf;, score=-0.776 total time=   1.4s\n",
      "[CV 1/5] END ...C=0.5, gamma=0.001, kernel=rbf;, score=-0.682 total time=   1.9s\n",
      "[CV 2/5] END ...C=0.5, gamma=0.001, kernel=rbf;, score=-0.678 total time=   2.0s\n",
      "[CV 3/5] END ...C=0.5, gamma=0.001, kernel=rbf;, score=-0.676 total time=   2.1s\n",
      "[CV 4/5] END ...C=0.5, gamma=0.001, kernel=rbf;, score=-0.672 total time=   2.0s\n",
      "[CV 5/5] END ...C=0.5, gamma=0.001, kernel=rbf;, score=-0.674 total time=   2.2s\n",
      "[CV 1/5] END ..C=0.5, gamma=0.0001, kernel=rbf;, score=-1.009 total time=   2.3s\n",
      "[CV 2/5] END ..C=0.5, gamma=0.0001, kernel=rbf;, score=-1.002 total time=   2.3s\n",
      "[CV 3/5] END ..C=0.5, gamma=0.0001, kernel=rbf;, score=-1.008 total time=   2.4s\n",
      "[CV 4/5] END ..C=0.5, gamma=0.0001, kernel=rbf;, score=-1.008 total time=   2.3s\n",
      "[CV 5/5] END ..C=0.5, gamma=0.0001, kernel=rbf;, score=-1.010 total time=   2.3s\n",
      "[CV 1/5] END .....C=1, gamma=scale, kernel=rbf;, score=-0.594 total time=   1.0s\n",
      "[CV 2/5] END .....C=1, gamma=scale, kernel=rbf;, score=-0.586 total time=   1.0s\n",
      "[CV 3/5] END .....C=1, gamma=scale, kernel=rbf;, score=-0.593 total time=   1.0s\n",
      "[CV 4/5] END .....C=1, gamma=scale, kernel=rbf;, score=-0.599 total time=   1.0s\n",
      "[CV 5/5] END .....C=1, gamma=scale, kernel=rbf;, score=-0.594 total time=   1.2s\n",
      "[CV 1/5] END .........C=1, gamma=1, kernel=rbf;, score=-0.536 total time=   0.4s\n",
      "[CV 2/5] END .........C=1, gamma=1, kernel=rbf;, score=-0.532 total time=   0.4s\n",
      "[CV 3/5] END .........C=1, gamma=1, kernel=rbf;, score=-0.541 total time=   0.4s\n",
      "[CV 4/5] END .........C=1, gamma=1, kernel=rbf;, score=-0.543 total time=   0.4s\n",
      "[CV 5/5] END .........C=1, gamma=1, kernel=rbf;, score=-0.539 total time=   0.4s\n",
      "[CV 1/5] END .......C=1, gamma=0.1, kernel=rbf;, score=-0.651 total time=   1.1s\n",
      "[CV 2/5] END .......C=1, gamma=0.1, kernel=rbf;, score=-0.655 total time=   1.0s\n",
      "[CV 3/5] END .......C=1, gamma=0.1, kernel=rbf;, score=-0.642 total time=   1.2s\n",
      "[CV 4/5] END .......C=1, gamma=0.1, kernel=rbf;, score=-0.649 total time=   1.0s\n",
      "[CV 5/5] END .......C=1, gamma=0.1, kernel=rbf;, score=-0.654 total time=   1.2s\n",
      "[CV 1/5] END ......C=1, gamma=0.01, kernel=rbf;, score=-0.766 total time=   1.3s\n",
      "[CV 2/5] END ......C=1, gamma=0.01, kernel=rbf;, score=-0.754 total time=   1.3s\n",
      "[CV 3/5] END ......C=1, gamma=0.01, kernel=rbf;, score=-0.757 total time=   1.2s\n",
      "[CV 4/5] END ......C=1, gamma=0.01, kernel=rbf;, score=-0.752 total time=   1.2s\n",
      "[CV 5/5] END ......C=1, gamma=0.01, kernel=rbf;, score=-0.767 total time=   1.2s\n",
      "[CV 1/5] END .....C=1, gamma=0.001, kernel=rbf;, score=-0.729 total time=   1.9s\n",
      "[CV 2/5] END .....C=1, gamma=0.001, kernel=rbf;, score=-0.681 total time=   1.9s\n",
      "[CV 3/5] END .....C=1, gamma=0.001, kernel=rbf;, score=-0.700 total time=   1.9s\n",
      "[CV 4/5] END .....C=1, gamma=0.001, kernel=rbf;, score=-0.720 total time=   2.0s\n",
      "[CV 5/5] END .....C=1, gamma=0.001, kernel=rbf;, score=-0.715 total time=   1.8s\n",
      "[CV 1/5] END ....C=1, gamma=0.0001, kernel=rbf;, score=-0.907 total time=   2.2s\n",
      "[CV 2/5] END ....C=1, gamma=0.0001, kernel=rbf;, score=-0.918 total time=   2.3s\n",
      "[CV 3/5] END ....C=1, gamma=0.0001, kernel=rbf;, score=-0.904 total time=   2.2s\n",
      "[CV 4/5] END ....C=1, gamma=0.0001, kernel=rbf;, score=-0.910 total time=   2.1s\n",
      "[CV 5/5] END ....C=1, gamma=0.0001, kernel=rbf;, score=-0.916 total time=   2.2s\n",
      "[CV 1/5] END ....C=10, gamma=scale, kernel=rbf;, score=-0.541 total time=   0.6s\n",
      "[CV 2/5] END ....C=10, gamma=scale, kernel=rbf;, score=-0.538 total time=   0.7s\n",
      "[CV 3/5] END ....C=10, gamma=scale, kernel=rbf;, score=-0.542 total time=   0.5s\n",
      "[CV 4/5] END ....C=10, gamma=scale, kernel=rbf;, score=-0.544 total time=   0.6s\n",
      "[CV 5/5] END ....C=10, gamma=scale, kernel=rbf;, score=-0.542 total time=   0.6s\n",
      "[CV 1/5] END ........C=10, gamma=1, kernel=rbf;, score=-0.532 total time=   0.3s\n",
      "[CV 2/5] END ........C=10, gamma=1, kernel=rbf;, score=-0.531 total time=   0.3s\n",
      "[CV 3/5] END ........C=10, gamma=1, kernel=rbf;, score=-0.538 total time=   0.2s\n",
      "[CV 4/5] END ........C=10, gamma=1, kernel=rbf;, score=-0.541 total time=   0.3s\n",
      "[CV 5/5] END ........C=10, gamma=1, kernel=rbf;, score=-0.537 total time=   0.3s\n",
      "[CV 1/5] END ......C=10, gamma=0.1, kernel=rbf;, score=-0.594 total time=   1.2s\n",
      "[CV 2/5] END ......C=10, gamma=0.1, kernel=rbf;, score=-0.587 total time=   1.3s\n",
      "[CV 3/5] END ......C=10, gamma=0.1, kernel=rbf;, score=-0.589 total time=   1.1s\n",
      "[CV 4/5] END ......C=10, gamma=0.1, kernel=rbf;, score=-0.599 total time=   1.3s\n",
      "[CV 5/5] END ......C=10, gamma=0.1, kernel=rbf;, score=-0.592 total time=   1.2s\n",
      "[CV 1/5] END .....C=10, gamma=0.01, kernel=rbf;, score=-0.744 total time=   1.2s\n",
      "[CV 2/5] END .....C=10, gamma=0.01, kernel=rbf;, score=-0.739 total time=   1.4s\n",
      "[CV 3/5] END .....C=10, gamma=0.01, kernel=rbf;, score=-0.737 total time=   1.1s\n",
      "[CV 4/5] END .....C=10, gamma=0.01, kernel=rbf;, score=-0.737 total time=   1.0s\n",
      "[CV 5/5] END .....C=10, gamma=0.01, kernel=rbf;, score=-0.747 total time=   1.1s\n",
      "[CV 1/5] END ....C=10, gamma=0.001, kernel=rbf;, score=-0.777 total time=   1.6s\n",
      "[CV 2/5] END ....C=10, gamma=0.001, kernel=rbf;, score=-0.754 total time=   1.6s\n",
      "[CV 3/5] END ....C=10, gamma=0.001, kernel=rbf;, score=-0.767 total time=   1.6s\n",
      "[CV 4/5] END ....C=10, gamma=0.001, kernel=rbf;, score=-0.765 total time=   1.6s\n",
      "[CV 5/5] END ....C=10, gamma=0.001, kernel=rbf;, score=-0.771 total time=   1.5s\n",
      "[CV 1/5] END ...C=10, gamma=0.0001, kernel=rbf;, score=-0.722 total time=   2.1s\n",
      "[CV 2/5] END ...C=10, gamma=0.0001, kernel=rbf;, score=-0.681 total time=   2.0s\n",
      "[CV 3/5] END ...C=10, gamma=0.0001, kernel=rbf;, score=-0.691 total time=   2.3s\n",
      "[CV 4/5] END ...C=10, gamma=0.0001, kernel=rbf;, score=-0.713 total time=   2.0s\n",
      "[CV 5/5] END ...C=10, gamma=0.0001, kernel=rbf;, score=-0.708 total time=   2.1s\n",
      "[CV 1/5] END ...C=100, gamma=scale, kernel=rbf;, score=-0.534 total time=   0.5s\n",
      "[CV 2/5] END ...C=100, gamma=scale, kernel=rbf;, score=-0.533 total time=   0.5s\n",
      "[CV 3/5] END ...C=100, gamma=scale, kernel=rbf;, score=-0.540 total time=   0.5s\n",
      "[CV 4/5] END ...C=100, gamma=scale, kernel=rbf;, score=-0.542 total time=   0.5s\n",
      "[CV 5/5] END ...C=100, gamma=scale, kernel=rbf;, score=-0.540 total time=   0.5s\n",
      "[CV 1/5] END .......C=100, gamma=1, kernel=rbf;, score=-0.527 total time=   0.3s\n",
      "[CV 2/5] END .......C=100, gamma=1, kernel=rbf;, score=-0.529 total time=   0.2s\n",
      "[CV 3/5] END .......C=100, gamma=1, kernel=rbf;, score=-0.532 total time=   0.3s\n",
      "[CV 4/5] END .......C=100, gamma=1, kernel=rbf;, score=-0.538 total time=   0.3s\n",
      "[CV 5/5] END .......C=100, gamma=1, kernel=rbf;, score=-0.533 total time=   0.3s\n",
      "[CV 1/5] END .....C=100, gamma=0.1, kernel=rbf;, score=-0.589 total time=   1.1s\n",
      "[CV 2/5] END .....C=100, gamma=0.1, kernel=rbf;, score=-0.580 total time=   1.3s\n",
      "[CV 3/5] END .....C=100, gamma=0.1, kernel=rbf;, score=-0.588 total time=   1.4s\n",
      "[CV 4/5] END .....C=100, gamma=0.1, kernel=rbf;, score=-0.594 total time=   1.1s\n",
      "[CV 5/5] END .....C=100, gamma=0.1, kernel=rbf;, score=-0.590 total time=   1.3s\n",
      "[CV 1/5] END ....C=100, gamma=0.01, kernel=rbf;, score=-0.692 total time=   1.4s\n",
      "[CV 2/5] END ....C=100, gamma=0.01, kernel=rbf;, score=-0.701 total time=   1.7s\n",
      "[CV 3/5] END ....C=100, gamma=0.01, kernel=rbf;, score=-0.695 total time=   1.6s\n",
      "[CV 4/5] END ....C=100, gamma=0.01, kernel=rbf;, score=-0.694 total time=   1.3s\n",
      "[CV 5/5] END ....C=100, gamma=0.01, kernel=rbf;, score=-0.723 total time=   1.4s\n",
      "[CV 1/5] END ...C=100, gamma=0.001, kernel=rbf;, score=-0.765 total time=   1.6s\n",
      "[CV 2/5] END ...C=100, gamma=0.001, kernel=rbf;, score=-0.756 total time=   1.6s\n",
      "[CV 3/5] END ...C=100, gamma=0.001, kernel=rbf;, score=-0.755 total time=   1.5s\n",
      "[CV 4/5] END ...C=100, gamma=0.001, kernel=rbf;, score=-0.754 total time=   1.4s\n",
      "[CV 5/5] END ...C=100, gamma=0.001, kernel=rbf;, score=-0.765 total time=   1.6s\n",
      "[CV 1/5] END ..C=100, gamma=0.0001, kernel=rbf;, score=-0.776 total time=   1.6s\n",
      "[CV 2/5] END ..C=100, gamma=0.0001, kernel=rbf;, score=-0.753 total time=   1.9s\n",
      "[CV 3/5] END ..C=100, gamma=0.0001, kernel=rbf;, score=-0.763 total time=   1.6s\n",
      "[CV 4/5] END ..C=100, gamma=0.0001, kernel=rbf;, score=-0.764 total time=   1.6s\n",
      "[CV 5/5] END ..C=100, gamma=0.0001, kernel=rbf;, score=-0.770 total time=   1.8s\n",
      "{'C': 100, 'gamma': 1, 'kernel': 'rbf'}\n",
      "Best score: -0.532125\n",
      "CPU times: total: 2min 5s\n",
      "Wall time: 2min 41s\n"
     ]
    }
   ],
   "source": [
    "%%time\n",
    "pca = PCA(n_components=3)\n",
    "X_train_pca = pca.fit_transform(X_train_scaled)\n",
    "\n",
    "train_pc1_coords = X_train_pca[:, 0]\n",
    "train_pc2_coords = X_train_pca[:, 1]\n",
    "train_pc3_coords = X_train_pca[:, 2]\n",
    "pca_train_scaled = StandardScaler().fit_transform(np.column_stack((train_pc1_coords, train_pc2_coords, train_pc3_coords)))\n",
    "\n",
    "param_grid = {\n",
    "    'C': [0.5, 1, 10, 100],\n",
    "    'gamma': ['scale', 1, 0.1, 0.01, 0.001, 0.0001],\n",
    "    'kernel': ['rbf']\n",
    "}\n",
    "\n",
    "optimal_params = GridSearchCV(\n",
    "    SVC(),\n",
    "    param_grid,\n",
    "    cv=5,\n",
    "    scoring=hinge_scorer,\n",
    "    verbose=3\n",
    ")\n",
    "\n",
    "optimal_params.fit(pca_train_scaled, y_train)\n",
    "print(optimal_params.best_params_)\n",
    "print(f'Best score: {optimal_params.best_score_}')"
   ]
  }
 ],
 "metadata": {
  "kernelspec": {
   "display_name": "Python 3 (ipykernel)",
   "language": "python",
   "name": "python3"
  },
  "language_info": {
   "codemirror_mode": {
    "name": "ipython",
    "version": 3
   },
   "file_extension": ".py",
   "mimetype": "text/x-python",
   "name": "python",
   "nbconvert_exporter": "python",
   "pygments_lexer": "ipython3",
   "version": "3.12.2"
  }
 },
 "nbformat": 4,
 "nbformat_minor": 5
}
