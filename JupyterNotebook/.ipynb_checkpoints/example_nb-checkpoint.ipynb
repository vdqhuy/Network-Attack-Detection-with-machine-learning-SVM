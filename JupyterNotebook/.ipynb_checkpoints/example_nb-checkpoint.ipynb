{
 "cells": [
  {
   "cell_type": "raw",
   "id": "829358d1-caf6-4cba-ad36-e3a74b6c372e",
   "metadata": {},
   "source": [
    "Các bước cho sử dụng thuật toán SVM\n",
    "- Import Data từ file dataset\n",
    "- Xử lý các data bị thiếu sót\n",
    "- Downsampling data\n",
    "- Định dạng data cho SVM\n",
    "- Xây dựng một Preliminary SVM\n",
    "- Tối ưu Parameters với Cross Validation\n",
    "- Xây dựng, Đánh giá, vẽ và thông dịch SVM cuối cùng"
   ]
  },
  {
   "cell_type": "raw",
   "id": "f9ed71d1-392d-45c5-8448-2adf11beffea",
   "metadata": {},
   "source": [
    "Import thư viện"
   ]
  },
  {
   "cell_type": "code",
   "execution_count": 2,
   "id": "e7317b27-190c-4206-a035-6ab5c3955dca",
   "metadata": {},
   "outputs": [],
   "source": [
    "import pandas as pd  # pandas is used to load and manipulate data and for One-Hot Encoding\n",
    "import numpy as np  # data manipulation\n",
    "import matplotlib.pyplot as plt  # matplotlib is for drawing graphs\n",
    "import matplotlib.colors as colors\n",
    "from sklearn.utils import resample  # downsample the dataset\n",
    "from sklearn.model_selection import train_test_split  # split data into training and testing sets\n",
    "from sklearn.preprocessing import scale  # scale and center data\n",
    "from sklearn.svm import SVC  # this will make a support vector machine for classification\n",
    "from sklearn.model_selection import GridSearchCV  # this will do cross validation\n",
    "from sklearn.metrics import confusion_matrix  # this creates a confusion matrix\n",
    "from sklearn.metrics import ConfusionMatrixDisplay  # draws a confusion matrix\n",
    "from sklearn.decomposition import PCA  # to perform PCA to plot the data"
   ]
  },
  {
   "cell_type": "raw",
   "id": "44a3d5fe-1261-4f9d-8a0f-7271092b4783",
   "metadata": {},
   "source": [
    "Import Data từ file dataset"
   ]
  },
  {
   "cell_type": "code",
   "execution_count": null,
   "id": "7231690d-039e-4e7b-86b5-6559bbe17d8d",
   "metadata": {},
   "outputs": [],
   "source": [
    "df = pd.read_csv('OS Scan_dataset-002.csv',\n",
    "                 header=1,\n",
    "                 sep='\\t')"
   ]
  },
  {
   "cell_type": "code",
   "execution_count": null,
   "id": "321b16ad-a24a-488a-a90d-dbb0d3fef0ab",
   "metadata": {},
   "outputs": [],
   "source": [
    "df.head()"
   ]
  }
 ],
 "metadata": {
  "kernelspec": {
   "display_name": "Python 3 (ipykernel)",
   "language": "python",
   "name": "python3"
  },
  "language_info": {
   "codemirror_mode": {
    "name": "ipython",
    "version": 3
   },
   "file_extension": ".py",
   "mimetype": "text/x-python",
   "name": "python",
   "nbconvert_exporter": "python",
   "pygments_lexer": "ipython3",
   "version": "3.12.2"
  }
 },
 "nbformat": 4,
 "nbformat_minor": 5
}
