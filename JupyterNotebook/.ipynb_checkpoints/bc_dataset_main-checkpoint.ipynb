{
 "cells": [
  {
   "cell_type": "code",
   "execution_count": 1,
   "metadata": {
    "colab": {
     "base_uri": "https://localhost:8080/"
    },
    "id": "b8T0nv_TvPIK",
    "outputId": "48e5109c-3e1f-461c-ea0e-418fb373ef01"
   },
   "outputs": [],
   "source": [
    "# !pip install nbformat"
   ]
  },
  {
   "cell_type": "code",
   "execution_count": 2,
   "metadata": {
    "colab": {
     "base_uri": "https://localhost:8080/"
    },
    "id": "JLed8G8zvWgW",
    "outputId": "346079a0-64d8-49d0-da75-6741ff06c809"
   },
   "outputs": [],
   "source": [
    "# from google.colab import drive\n",
    "# drive.mount('/content/drive')"
   ]
  },
  {
   "cell_type": "code",
   "execution_count": 3,
   "metadata": {
    "colab": {
     "base_uri": "https://localhost:8080/"
    },
    "id": "YkNuO59kviJi",
    "outputId": "843968a3-c435-4dbf-c135-2d65cd86051c"
   },
   "outputs": [],
   "source": [
    "# !pip install graphviz\n",
    "# !pip install dtreeviz"
   ]
  },
  {
   "cell_type": "code",
   "execution_count": 4,
   "metadata": {
    "id": "hWv0C2ktemfL"
   },
   "outputs": [],
   "source": [
    "import numpy as np\n",
    "import pandas as pd\n",
    "import warnings\n",
    "import matplotlib.pyplot as plt\n",
    "import seaborn as sns\n",
    "import plotly.express as px\n",
    "import plotly.offline as pyo\n",
    "import tensorflow as tf\n",
    "from tensorflow import keras\n",
    "from keras import regularizers\n",
    "import xgboost as xgb\n",
    "from sklearn.decomposition import PCA\n",
    "from sklearn import tree\n",
    "from sklearn.preprocessing import RobustScaler\n",
    "from sklearn.model_selection import train_test_split\n",
    "from sklearn import svm\n",
    "from sklearn import metrics\n",
    "pd.set_option('display.max_columns', None)\n",
    "warnings.filterwarnings('ignore')\n",
    "%matplotlib inline\n",
    "import os\n",
    "import gc"
   ]
  },
  {
   "cell_type": "raw",
   "metadata": {},
   "source": [
    "Đọc dataset df_main"
   ]
  },
  {
   "cell_type": "code",
   "execution_count": 1,
   "metadata": {
    "id": "Vdne2Cz5H6bh",
    "scrolled": true
   },
   "outputs": [
    {
     "ename": "SyntaxError",
     "evalue": "invalid syntax (4195521822.py, line 10)",
     "output_type": "error",
     "traceback": [
      "\u001b[1;36m  Cell \u001b[1;32mIn[1], line 10\u001b[1;36m\u001b[0m\n\u001b[1;33m    if file_path in [exclude_path_1, exclude_path_2] or 'Remain' in file_path or 'MainDataset' in file_path or :\u001b[0m\n\u001b[1;37m                                                                                                               ^\u001b[0m\n\u001b[1;31mSyntaxError\u001b[0m\u001b[1;31m:\u001b[0m invalid syntax\n"
     ]
    }
   ],
   "source": [
    "df_main = pd.DataFrame(data=None)\n",
    "\n",
    "for dirname, _, filenames in os.walk('../Dataset/IDS 2018 Intrusion CSVs (CSE-CIC-IDS2018)/'):\n",
    "    for filename in filenames:\n",
    "        file_path = os.path.join(dirname, filename)\n",
    "        exclude_path_1 = os.path.join(dirname, '02-20-2018.csv')\n",
    "        exclude_path_2 = os.path.join(dirname, 'readme.txt')\n",
    "        \n",
    "        # Loại bỏ các tệp cần bỏ qua\n",
    "        if file_path in [exclude_path_1, exclude_path_2] or 'Remain' in file_path or 'MainDataset' in file_path or 'MC' in file_path:\n",
    "            continue\n",
    "        \n",
    "        print(file_path)\n",
    "        df_temp = pd.read_csv(file_path)\n",
    "        df_main = pd.concat([df_main, df_temp], ignore_index=True)\n",
    "        del df_temp\n",
    "        gc.collect()"
   ]
  },
  {
   "cell_type": "code",
   "execution_count": null,
   "metadata": {},
   "outputs": [],
   "source": [
    "df_main.shape"
   ]
  },
  {
   "cell_type": "code",
   "execution_count": null,
   "metadata": {
    "scrolled": true
   },
   "outputs": [],
   "source": [
    "# check the number of rows and columns\n",
    "print('Number of Rows (Samples): %s' % str((df_main.shape[0])))\n",
    "print('Number of Columns (Features): %s' % str((df_main.shape[1])))"
   ]
  },
  {
   "cell_type": "code",
   "execution_count": null,
   "metadata": {
    "colab": {
     "base_uri": "https://localhost:8080/",
     "height": 521
    },
    "id": "9ZeA3KIJLCOD",
    "outputId": "5d50cd58-7878-49d4-93d5-cc200ed461b1"
   },
   "outputs": [],
   "source": [
    "df_main.head()"
   ]
  },
  {
   "cell_type": "code",
   "execution_count": null,
   "metadata": {
    "colab": {
     "base_uri": "https://localhost:8080/"
    },
    "id": "rL32JXSVkj-J",
    "outputId": "4e958477-304e-4883-e7fd-899f16414da5"
   },
   "outputs": [],
   "source": [
    "df_main.columns"
   ]
  },
  {
   "cell_type": "code",
   "execution_count": null,
   "metadata": {},
   "outputs": [],
   "source": [
    "# check the number of columns\n",
    "print('Total columns in our data: %s' % str(len(df_main.columns)))"
   ]
  },
  {
   "cell_type": "code",
   "execution_count": null,
   "metadata": {
    "colab": {
     "base_uri": "https://localhost:8080/"
    },
    "id": "nvPcWNfwLf31",
    "outputId": "5907d257-cb19-4073-b361-0fc5d5659a0d"
   },
   "outputs": [],
   "source": [
    "df_main.info()"
   ]
  },
  {
   "cell_type": "code",
   "execution_count": null,
   "metadata": {},
   "outputs": [],
   "source": [
    "# check the number of values for labels\n",
    "df_main['Label'].value_counts()"
   ]
  },
  {
   "cell_type": "markdown",
   "metadata": {
    "id": "r5-V7G60NUg6"
   },
   "source": [
    "Tiền xử lý dữ liệu"
   ]
  },
  {
   "cell_type": "code",
   "execution_count": null,
   "metadata": {},
   "outputs": [],
   "source": [
    "df_main.isna().sum().sum()"
   ]
  },
  {
   "cell_type": "code",
   "execution_count": null,
   "metadata": {},
   "outputs": [],
   "source": [
    "# Loại bỏ các giá trị trùng lặp và cột hằng (constant columns)\n",
    "df_main.drop_duplicates(inplace=True)\n",
    "variances = df_main.var(numeric_only=True)\n",
    "constant_columns = variances[variances == 0].index\n",
    "df_main.drop(constant_columns, axis=1, inplace=True)\n",
    "\n",
    "# In ra các cột hằng và hình dạng của DataFrame sau khi xử lý\n",
    "print(constant_columns)\n",
    "print(df_main.shape)"
   ]
  },
  {
   "cell_type": "code",
   "execution_count": null,
   "metadata": {},
   "outputs": [],
   "source": [
    "print(df_main.shape)\n",
    "print(df_main['Label'].value_counts())"
   ]
  },
  {
   "cell_type": "code",
   "execution_count": null,
   "metadata": {},
   "outputs": [],
   "source": [
    "df_main.head()"
   ]
  },
  {
   "cell_type": "code",
   "execution_count": null,
   "metadata": {},
   "outputs": [],
   "source": [
    "df_main.columns"
   ]
  },
  {
   "cell_type": "code",
   "execution_count": null,
   "metadata": {},
   "outputs": [],
   "source": [
    "df_main.info"
   ]
  },
  {
   "cell_type": "code",
   "execution_count": null,
   "metadata": {
    "scrolled": true
   },
   "outputs": [],
   "source": [
    "df_main.to_csv('../Dataset/IDS 2018 Intrusion CSVs (CSE-CIC-IDS2018)/dataset_main.csv', index=False)"
   ]
  },
  {
   "cell_type": "raw",
   "metadata": {},
   "source": [
    "Split data"
   ]
  },
  {
   "cell_type": "code",
   "execution_count": null,
   "metadata": {},
   "outputs": [],
   "source": [
    "X = df_main.drop(columns='Label')\n",
    "y = df_main['Label']\n",
    "\n",
    "# Chia dữ liệu thành tập huấn luyện và tập kiểm tra\n",
    "X_train, X_test, y_train, y_test = train_test_split(X, y, test_size=0.2, random_state=42)"
   ]
  },
  {
   "cell_type": "code",
   "execution_count": null,
   "metadata": {},
   "outputs": [],
   "source": [
    "X_train.head"
   ]
  },
  {
   "cell_type": "code",
   "execution_count": null,
   "metadata": {},
   "outputs": [],
   "source": [
    "X_test.head"
   ]
  },
  {
   "cell_type": "code",
   "execution_count": null,
   "metadata": {},
   "outputs": [],
   "source": [
    "y_train.head"
   ]
  },
  {
   "cell_type": "code",
   "execution_count": null,
   "metadata": {},
   "outputs": [],
   "source": [
    "y_test.head"
   ]
  },
  {
   "cell_type": "raw",
   "metadata": {},
   "source": [
    "Chuẩn hóa dữ liệu"
   ]
  },
  {
   "cell_type": "code",
   "execution_count": null,
   "metadata": {},
   "outputs": [],
   "source": [
    "from sklearn.preprocessing import StandardScaler\n",
    "scaler = StandardScaler()\n",
    "X_train = scaler.fit_transform(X_train)\n",
    "X_test = scaler.transform(X_test)"
   ]
  },
  {
   "cell_type": "raw",
   "metadata": {},
   "source": [
    "Hyperparameter tuning với K-fold cross-validation"
   ]
  },
  {
   "cell_type": "code",
   "execution_count": null,
   "metadata": {},
   "outputs": [],
   "source": [
    "# from sklearn.model_selection import KFold\n",
    "# from sklearn.svm import SVC\n",
    "# from sklearn.metrics import accuracy_score\n",
    "\n",
    "# parameters = [{'C': [1, 10, 100], 'gamma': [0.001, 0.0001]}]\n",
    "# k = 5\n",
    "# kf = KFold(n_splits=k, shuffle=True, random_state=42)\n",
    "# best_score = 0\n",
    "# best_params = {}\n",
    "\n",
    "# for param in parameters:\n",
    "#     for C in param['C']:\n",
    "#         for gamma in param['gamma']:\n",
    "#             skills = []\n",
    "#             for train_index, val_index in kf.split(X_train):\n",
    "#                 fold_train_X, fold_val_X = X_train[train_index], X_train[val_index]\n",
    "#                 fold_train_y, fold_val_y = y_train.iloc[train_index], y_train.iloc[val_index]\n",
    "                \n",
    "#                 model = SVC(C=C, gamma=gamma)\n",
    "#                 model.fit(fold_train_X, fold_train_y)\n",
    "#                 y_val_pred = model.predict(fold_val_X)\n",
    "#                 skill_estimate = accuracy_score(fold_val_y, y_val_pred)\n",
    "#                 skills.append(skill_estimate)\n",
    "            \n",
    "#             skill = np.mean(skills)\n",
    "#             print(f'Validation accuracy with C={C}, gamma={gamma}: {skill}')\n",
    "#             if skill > best_score:\n",
    "#                 best_score = skill\n",
    "#                 best_params = {'C': C, 'gamma': gamma}\n",
    "\n",
    "# print(f'Best params: {best_params} with accuracy: {best_score}')"
   ]
  },
  {
   "cell_type": "code",
   "execution_count": null,
   "metadata": {},
   "outputs": [],
   "source": [
    "from sklearn.model_selection import GridSearchCV\n",
    "from sklearn.svm import SVC\n",
    "import numpy as np\n",
    "\n",
    "# Định nghĩa các siêu tham số cần tìm kiếm\n",
    "param_grid = {\n",
    "    'C': [0.5, 1, 10, 100],\n",
    "    'gamma': ['scale', 1, 0.1, 0.01, 0.001, 0.0001],\n",
    "    'kernel': ['rbf']\n",
    "}\n",
    "\n",
    "# Khởi tạo GridSearchCV với SVM\n",
    "optimal_params = GridSearchCV(\n",
    "    SVC(),\n",
    "    param_grid,\n",
    "    cv=5,\n",
    "    scoring='accuracy',\n",
    "    verbose=0\n",
    ")\n",
    "\n",
    "# Huấn luyện GridSearchCV\n",
    "optimal_params.fit(X_train, y_train)\n",
    "\n",
    "# In ra các siêu tham số tốt nhất\n",
    "print(optimal_params.best_params_)"
   ]
  },
  {
   "cell_type": "code",
   "execution_count": null,
   "metadata": {},
   "outputs": [],
   "source": [
    "Đánh giá mô hình"
   ]
  },
  {
   "cell_type": "code",
   "execution_count": null,
   "metadata": {},
   "outputs": [],
   "source": [
    "# Evaluate the final model on the test set\n",
    "clf_model = SVC(random_state=42, **best_params)\n",
    "clf_model.fit(X_train, y_train)\n",
    "y_test_pred = clf_model.predict(X_test)\n",
    "final_skill = accuracy_score(y_test, y_test_pred)\n",
    "\n",
    "print(f'Test accuracy: {final_skill}')"
   ]
  },
  {
   "cell_type": "code",
   "execution_count": null,
   "metadata": {},
   "outputs": [],
   "source": [
    "plot_confusion_matrix(clf_model,\n",
    "                      X_test,\n",
    "                      y_test,\n",
    "                      values_format='d',\n",
    "                      display_labels=[\"Normal\", \"Attack\"])"
   ]
  }
 ],
 "metadata": {
  "accelerator": "GPU",
  "colab": {
   "gpuType": "T4",
   "provenance": []
  },
  "kernelspec": {
   "display_name": "Python 3 (ipykernel)",
   "language": "python",
   "name": "python3"
  },
  "language_info": {
   "codemirror_mode": {
    "name": "ipython",
    "version": 3
   },
   "file_extension": ".py",
   "mimetype": "text/x-python",
   "name": "python",
   "nbconvert_exporter": "python",
   "pygments_lexer": "ipython3",
   "version": "3.12.2"
  }
 },
 "nbformat": 4,
 "nbformat_minor": 4
}
